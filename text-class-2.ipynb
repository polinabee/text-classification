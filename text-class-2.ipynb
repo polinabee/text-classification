{
 "cells": [
  {
   "cell_type": "code",
   "execution_count": 1,
   "id": "conceptual-sharp",
   "metadata": {},
   "outputs": [
    {
     "name": "stderr",
     "output_type": "stream",
     "text": [
      "/Users/polinab/.virtualenvs/deep/lib/python3.8/site-packages/pandas/compat/__init__.py:97: UserWarning: Could not import the lzma module. Your installed Python is incomplete. Attempting to use lzma compression will result in a RuntimeError.\n",
      "  warnings.warn(msg)\n",
      "[nltk_data] Downloading package stopwords to\n",
      "[nltk_data]     /Users/polinab/nltk_data...\n",
      "[nltk_data]   Package stopwords is already up-to-date!\n"
     ]
    }
   ],
   "source": [
    "import pandas as pd\n",
    "import numpy as np\n",
    "import string\n",
    "import nltk\n",
    "from nltk.corpus import stopwords\n",
    "nltk.download('stopwords')\n",
    "from tensorflow.keras.models import Sequential\n",
    "from tensorflow.keras.layers import Dense, Dropout\n",
    "from tensorflow.keras.layers import Embedding\n",
    "from tensorflow.keras.layers import LSTM\n",
    "from tensorflow.keras.preprocessing import sequence\n",
    "from sklearn.model_selection import train_test_split\n",
    "import matplotlib.pyplot as plt\n",
    "import seaborn as sns\n",
    "from keras.callbacks import CSVLogger\n",
    "from tensorflow.python.keras.layers import Conv1D, Conv2D, MaxPooling1D, Flatten\n",
    "\n",
    "from keras.layers import Flatten, Dropout,GlobalMaxPooling1D\n",
    "from keras.preprocessing.text import Tokenizer\n",
    "from keras_preprocessing.sequence import pad_sequences\n",
    "\n",
    "\n",
    "\n"
   ]
  },
  {
   "cell_type": "markdown",
   "id": "conceptual-sucking",
   "metadata": {},
   "source": [
    "### Import and explore data"
   ]
  },
  {
   "cell_type": "code",
   "execution_count": 2,
   "id": "chronic-conjunction",
   "metadata": {},
   "outputs": [
    {
     "data": {
      "text/html": [
       "<div>\n",
       "<style scoped>\n",
       "    .dataframe tbody tr th:only-of-type {\n",
       "        vertical-align: middle;\n",
       "    }\n",
       "\n",
       "    .dataframe tbody tr th {\n",
       "        vertical-align: top;\n",
       "    }\n",
       "\n",
       "    .dataframe thead th {\n",
       "        text-align: right;\n",
       "    }\n",
       "</style>\n",
       "<table border=\"1\" class=\"dataframe\">\n",
       "  <thead>\n",
       "    <tr style=\"text-align: right;\">\n",
       "      <th></th>\n",
       "      <th>text</th>\n",
       "      <th>label</th>\n",
       "    </tr>\n",
       "  </thead>\n",
       "  <tbody>\n",
       "    <tr>\n",
       "      <th>0</th>\n",
       "      <td>Wow... Loved this place.</td>\n",
       "      <td>1</td>\n",
       "    </tr>\n",
       "    <tr>\n",
       "      <th>1</th>\n",
       "      <td>Crust is not good.</td>\n",
       "      <td>0</td>\n",
       "    </tr>\n",
       "    <tr>\n",
       "      <th>2</th>\n",
       "      <td>Not tasty and the texture was just nasty.</td>\n",
       "      <td>0</td>\n",
       "    </tr>\n",
       "    <tr>\n",
       "      <th>3</th>\n",
       "      <td>Stopped by during the late May bank holiday of...</td>\n",
       "      <td>1</td>\n",
       "    </tr>\n",
       "    <tr>\n",
       "      <th>4</th>\n",
       "      <td>The selection on the menu was great and so wer...</td>\n",
       "      <td>1</td>\n",
       "    </tr>\n",
       "  </tbody>\n",
       "</table>\n",
       "</div>"
      ],
      "text/plain": [
       "                                                text  label\n",
       "0                           Wow... Loved this place.      1\n",
       "1                                 Crust is not good.      0\n",
       "2          Not tasty and the texture was just nasty.      0\n",
       "3  Stopped by during the late May bank holiday of...      1\n",
       "4  The selection on the menu was great and so wer...      1"
      ]
     },
     "execution_count": 2,
     "metadata": {},
     "output_type": "execute_result"
    }
   ],
   "source": [
    "yelp_labelled = pd.read_csv('yelp_labelled.txt', sep='\\t', header=None)\n",
    "yelp_labelled.columns = ['text', 'label']\n",
    "yelp_labelled.head(5)"
   ]
  },
  {
   "cell_type": "code",
   "execution_count": 3,
   "id": "classified-rough",
   "metadata": {},
   "outputs": [
    {
     "data": {
      "text/plain": [
       "<AxesSubplot:xlabel='label', ylabel='Count'>"
      ]
     },
     "execution_count": 3,
     "metadata": {},
     "output_type": "execute_result"
    },
    {
     "data": {
      "image/png": "[encoded data removed]",
      "text/plain": [
       "<Figure size 432x288 with 1 Axes>"
      ]
     },
     "metadata": {
      "needs_background": "light"
     },
     "output_type": "display_data"
    }
   ],
   "source": [
    "sns.histplot(data=yelp_labelled, x=\"label\",bins=2,binwidth=0.4)\n"
   ]
  },
  {
   "cell_type": "markdown",
   "id": "pleased-retail",
   "metadata": {},
   "source": [
    "- 0 and 1 labels are equally distributed, so we do not need to resample the data\n",
    "- 0 is a bad review, 1 is a good review\n",
    "- small set of data, so we can use all of it"
   ]
  },
  {
   "cell_type": "code",
   "execution_count": 4,
   "id": "artificial-reservoir",
   "metadata": {},
   "outputs": [
    {
     "data": {
      "text/html": [
       "<div>\n",
       "<style scoped>\n",
       "    .dataframe tbody tr th:only-of-type {\n",
       "        vertical-align: middle;\n",
       "    }\n",
       "\n",
       "    .dataframe tbody tr th {\n",
       "        vertical-align: top;\n",
       "    }\n",
       "\n",
       "    .dataframe thead th {\n",
       "        text-align: right;\n",
       "    }\n",
       "</style>\n",
       "<table border=\"1\" class=\"dataframe\">\n",
       "  <thead>\n",
       "    <tr style=\"text-align: right;\">\n",
       "      <th></th>\n",
       "      <th>text</th>\n",
       "      <th>label</th>\n",
       "    </tr>\n",
       "  </thead>\n",
       "  <tbody>\n",
       "    <tr>\n",
       "      <th>195</th>\n",
       "      <td>The best place to go for a tasty bowl of Pho!</td>\n",
       "      <td>1</td>\n",
       "    </tr>\n",
       "    <tr>\n",
       "      <th>452</th>\n",
       "      <td>I am far from a sushi connoisseur but I can de...</td>\n",
       "      <td>0</td>\n",
       "    </tr>\n",
       "    <tr>\n",
       "      <th>866</th>\n",
       "      <td>This place is awesome if you want something li...</td>\n",
       "      <td>1</td>\n",
       "    </tr>\n",
       "    <tr>\n",
       "      <th>862</th>\n",
       "      <td>Hot dishes are not hot, cold dishes are close ...</td>\n",
       "      <td>0</td>\n",
       "    </tr>\n",
       "    <tr>\n",
       "      <th>621</th>\n",
       "      <td>Very disappointing!!!</td>\n",
       "      <td>0</td>\n",
       "    </tr>\n",
       "  </tbody>\n",
       "</table>\n",
       "</div>"
      ],
      "text/plain": [
       "                                                  text  label\n",
       "195      The best place to go for a tasty bowl of Pho!      1\n",
       "452  I am far from a sushi connoisseur but I can de...      0\n",
       "866  This place is awesome if you want something li...      1\n",
       "862  Hot dishes are not hot, cold dishes are close ...      0\n",
       "621                              Very disappointing!!!      0"
      ]
     },
     "execution_count": 4,
     "metadata": {},
     "output_type": "execute_result"
    },
    {
     "data": {
      "image/png": "[encoded data removed]",
      "text/plain": [
       "<Figure size 432x288 with 1 Axes>"
      ]
     },
     "metadata": {
      "needs_background": "light"
     },
     "output_type": "display_data"
    }
   ],
   "source": [
    "y = yelp_labelled['label']\n",
    "train_df, test_df = train_test_split(yelp_labelled, test_size=0.2)\n",
    "sns.histplot(data=yelp_labelled, x=\"label\",bins=2,binwidth=0.4)\n",
    "train_df.head()\n"
   ]
  },
  {
   "cell_type": "markdown",
   "id": "seasonal-yukon",
   "metadata": {},
   "source": [
    "### Vectorize the word data: building my own word dictionary\n",
    "- a neural network model cannot interpret words, they need to be encoded into numbers\n",
    "- external libraries exist that do this, like Word2Vec\n",
    "- After playing around with the libraries I decided to make my own encoding to fully understand how the basics work\n",
    "- getting rid of stop words made the model perform worse. Understandable since sequentially many of the stop words actually add information to the phrases! "
   ]
  },
  {
   "cell_type": "code",
   "execution_count": 5,
   "id": "killing-globe",
   "metadata": {},
   "outputs": [
    {
     "data": {
      "text/plain": [
       "149"
      ]
     },
     "execution_count": 5,
     "metadata": {},
     "output_type": "execute_result"
    }
   ],
   "source": [
    "# separate into positive and negative posts\n",
    "positive_posts = pd.Series.to_numpy(yelp_labelled[yelp_labelled.label == 1]['text'])\n",
    "negative_posts = pd.Series.to_numpy(yelp_labelled[yelp_labelled.label == 0]['text'])\n",
    "\n",
    "# keep an object with both sets for later use\n",
    "posts = np.append(negative_posts, positive_posts, axis=0)\n",
    "\n",
    "longest_post = max(len(post) for post in posts)\n",
    "longest_post\n"
   ]
  },
  {
   "cell_type": "code",
   "execution_count": 6,
   "id": "outer-stuff",
   "metadata": {},
   "outputs": [],
   "source": [
    "def unique_words(lines):\n",
    "    '''\n",
    "    returns dictionary of unique words in input\n",
    "    assigns an integer key to each word\n",
    "    does not include punctuation or stop words \n",
    "    stop words can be removed or included depending on the model\n",
    "    '''\n",
    "    unique_words = set()\n",
    "    stop_words = set(stopwords.words('english'))\n",
    "\n",
    "    for line in lines:\n",
    "        for word in line:\n",
    "#             if word not in stop_words:\n",
    "#                 unique_words.add(word)\n",
    "            unique_words.add(word)\n",
    "    word_vals = set(i for i in range(len(unique_words)))\n",
    "    word_keys = dict(zip(unique_words, word_vals))\n",
    "    return word_keys\n",
    "\n",
    "def word_to_vec(posts):\n",
    "    '''\n",
    "    encodes word input into integer arrays \n",
    "    stop words can be removed or included depending on the model\n",
    "    '''\n",
    "    stop_words = set(stopwords.words('english'))\n",
    "    posts = [line.lower().translate(str.maketrans('', '', string.punctuation)).split(' ') for line in posts]\n",
    "    word_dict = unique_words(posts)\n",
    "    word_key_map = [[word_dict[word] for word in post] for post in posts]\n",
    "#     word_key_map = [[word_dict[word] for word in post if word not in stop_words] for post in posts]\n",
    "    return word_key_map"
   ]
  },
  {
   "cell_type": "code",
   "execution_count": 10,
   "id": "welsh-turtle",
   "metadata": {},
   "outputs": [
    {
     "name": "stdout",
     "output_type": "stream",
     "text": [
      "\"Crust is not good.\" becomes [716, 837, 1380, 491]\n"
     ]
    }
   ],
   "source": [
    "neg_encoded = word_to_vec(negative_posts)\n",
    "pos_encoded = word_to_vec(positive_posts)\n",
    "word_vecs = np.concatenate((neg_encoded, pos_encoded))\n",
    "print(f'\"{negative_posts[0]}\" becomes {word_vecs[0]}')\n"
   ]
  },
  {
   "cell_type": "code",
   "execution_count": 11,
   "id": "official-packaging",
   "metadata": {},
   "outputs": [],
   "source": [
    "# Padding the data samples to a maximum review length in words\n",
    "longest_post = max([len(post) for post in word_to_vec(posts)])\n",
    "padded_word_vecs = sequence.pad_sequences(word_vecs, maxlen=longest_post)\n"
   ]
  },
  {
   "cell_type": "code",
   "execution_count": 12,
   "id": "swiss-import",
   "metadata": {},
   "outputs": [
    {
     "name": "stdout",
     "output_type": "stream",
     "text": [
      "X_train shape: (670, 32) (670,)\n",
      "X_test shape: (330, 32) (330,)\n"
     ]
    }
   ],
   "source": [
    "# re-create labels, concatenate with data, and set up test/train split\n",
    "labels = np.concatenate((np.zeros(len(neg_encoded)), np.ones(len(pos_encoded))))\n",
    "X_train, X_test, y_train, y_test = train_test_split(padded_word_vecs,labels,test_size=0.33)\n",
    "\n",
    "print('X_train shape:', X_train.shape, y_train.shape)\n",
    "print('X_test shape:', X_test.shape, y_test.shape)\n"
   ]
  },
  {
   "cell_type": "markdown",
   "id": "occasional-taste",
   "metadata": {
    "pycharm": {
     "name": "#%% md\n"
    }
   },
   "source": [
    "### Word-wise LSTM Model\n",
    "LSTM is an artificial RNN architecture.\n",
    "reference: https://towardsdatascience.com/a-beginners-guide-on-sentiment-analysis-with-rnn-9e100627c02e"
   ]
  },
  {
   "cell_type": "code",
   "execution_count": 13,
   "id": "international-tuesday",
   "metadata": {},
   "outputs": [
    {
     "name": "stdout",
     "output_type": "stream",
     "text": [
      "Model: \"sequential_1\"\n",
      "_________________________________________________________________\n",
      "Layer (type)                 Output Shape              Param #   \n",
      "=================================================================\n",
      "embedding_1 (Embedding)      (None, 32, 32)            66560     \n",
      "_________________________________________________________________\n",
      "lstm_1 (LSTM)                (None, 32)                8320      \n",
      "_________________________________________________________________\n",
      "dropout_1 (Dropout)          (None, 32)                0         \n",
      "_________________________________________________________________\n",
      "dense_1 (Dense)              (None, 1)                 33        \n",
      "=================================================================\n",
      "Total params: 74,913\n",
      "Trainable params: 74,913\n",
      "Non-trainable params: 0\n",
      "_________________________________________________________________\n",
      "None\n"
     ]
    }
   ],
   "source": [
    "vocab_size = max([max(arr) for arr in word_to_vec(posts)])\n",
    "embedding_size = 32\n",
    "lstm_model = Sequential()\n",
    "lstm_model.add(Embedding(vocab_size, embedding_size, input_length=longest_post))\n",
    "lstm_model.add(LSTM(embedding_size))\n",
    "lstm_model.add(Dropout(0.5))\n",
    "lstm_model.add(Dense(1, activation='sigmoid'))\n",
    "print(lstm_model.summary())\n",
    "# do grid search for hyperparams"
   ]
  },
  {
   "cell_type": "code",
   "execution_count": 14,
   "id": "hundred-technique",
   "metadata": {},
   "outputs": [
    {
     "name": "stdout",
     "output_type": "stream",
     "text": [
      "Epoch 1/20\n",
      "21/21 [==============================] - 3s 35ms/step - loss: 0.6894 - accuracy: 0.5893 - val_loss: 0.6690 - val_accuracy: 0.9121\n",
      "Epoch 2/20\n",
      "21/21 [==============================] - 0s 15ms/step - loss: 0.6349 - accuracy: 0.8826 - val_loss: 0.4613 - val_accuracy: 0.9273\n",
      "Epoch 3/20\n",
      "21/21 [==============================] - 0s 15ms/step - loss: 0.3884 - accuracy: 0.9052 - val_loss: 0.2916 - val_accuracy: 0.9242\n",
      "Epoch 4/20\n",
      "21/21 [==============================] - 0s 15ms/step - loss: 0.2479 - accuracy: 0.9432 - val_loss: 0.2026 - val_accuracy: 0.9424\n",
      "Epoch 5/20\n",
      "21/21 [==============================] - 0s 15ms/step - loss: 0.1737 - accuracy: 0.9703 - val_loss: 0.1411 - val_accuracy: 0.9970\n",
      "Epoch 6/20\n",
      "21/21 [==============================] - 0s 16ms/step - loss: 0.1020 - accuracy: 0.9891 - val_loss: 0.1048 - val_accuracy: 0.9636\n",
      "Epoch 7/20\n",
      "21/21 [==============================] - 0s 15ms/step - loss: 0.0785 - accuracy: 0.9871 - val_loss: 0.0744 - val_accuracy: 0.9909\n",
      "Epoch 8/20\n",
      "21/21 [==============================] - 0s 15ms/step - loss: 0.0469 - accuracy: 0.9929 - val_loss: 0.0851 - val_accuracy: 0.9576\n",
      "Epoch 9/20\n",
      "21/21 [==============================] - 0s 15ms/step - loss: 0.0496 - accuracy: 0.9942 - val_loss: 0.0826 - val_accuracy: 0.9788\n",
      "Epoch 10/20\n",
      "21/21 [==============================] - 0s 15ms/step - loss: 0.0402 - accuracy: 0.9964 - val_loss: 0.0598 - val_accuracy: 0.9909\n",
      "Epoch 11/20\n",
      "21/21 [==============================] - 0s 15ms/step - loss: 0.0272 - accuracy: 0.9982 - val_loss: 0.0459 - val_accuracy: 0.9879\n",
      "Epoch 12/20\n",
      "21/21 [==============================] - 0s 15ms/step - loss: 0.0226 - accuracy: 0.9976 - val_loss: 0.0284 - val_accuracy: 0.9939\n",
      "Epoch 13/20\n",
      "21/21 [==============================] - 0s 15ms/step - loss: 0.0280 - accuracy: 0.9920 - val_loss: 0.0329 - val_accuracy: 0.9939\n",
      "Epoch 14/20\n",
      "21/21 [==============================] - 0s 15ms/step - loss: 0.0164 - accuracy: 0.9958 - val_loss: 0.0285 - val_accuracy: 0.9909\n",
      "Epoch 15/20\n",
      "21/21 [==============================] - 0s 14ms/step - loss: 0.0181 - accuracy: 0.9962 - val_loss: 0.0490 - val_accuracy: 0.9788\n",
      "Epoch 16/20\n",
      "21/21 [==============================] - 0s 15ms/step - loss: 0.0085 - accuracy: 0.9998 - val_loss: 0.0387 - val_accuracy: 0.9788\n",
      "Epoch 17/20\n",
      "21/21 [==============================] - 0s 15ms/step - loss: 0.0122 - accuracy: 1.0000 - val_loss: 0.0446 - val_accuracy: 0.9818\n",
      "Epoch 18/20\n",
      "21/21 [==============================] - 0s 14ms/step - loss: 0.0108 - accuracy: 0.9996 - val_loss: 0.0219 - val_accuracy: 0.9939\n",
      "Epoch 19/20\n",
      "21/21 [==============================] - 0s 15ms/step - loss: 0.0073 - accuracy: 0.9990 - val_loss: 0.0790 - val_accuracy: 0.9667\n",
      "Epoch 20/20\n",
      "21/21 [==============================] - 0s 14ms/step - loss: 0.0074 - accuracy: 1.0000 - val_loss: 0.0274 - val_accuracy: 0.9909\n"
     ]
    },
    {
     "data": {
      "text/plain": [
       "<tensorflow.python.keras.callbacks.History at 0x154a10340>"
      ]
     },
     "execution_count": 14,
     "metadata": {},
     "output_type": "execute_result"
    }
   ],
   "source": [
    "lstm_model.compile(loss='binary_crossentropy',optimizer='adam',metrics=['accuracy'])\n",
    "\n",
    "batch_size = 64\n",
    "num_epochs = 20\n",
    "csv_logger = CSVLogger(\"lstm.csv\", append=False)\n",
    "lstm_model.fit(X_train, y_train, \n",
    "               epochs=num_epochs, \n",
    "               verbose=1,\n",
    "               callbacks=[csv_logger],\n",
    "               validation_data=(X_test,y_test)\n",
    "              )\n"
   ]
  },
  {
   "cell_type": "code",
   "execution_count": 15,
   "id": "established-square",
   "metadata": {
    "pycharm": {
     "name": "#%%\n"
    }
   },
   "outputs": [
    {
     "name": "stdout",
     "output_type": "stream",
     "text": [
      "Test accuracy: 0.9909090995788574\n"
     ]
    }
   ],
   "source": [
    "scores = lstm_model.evaluate(X_test, y_test, verbose=0)\n",
    "print('Test accuracy:', scores[1])"
   ]
  },
  {
   "cell_type": "code",
   "execution_count": 16,
   "id": "undefined-couple",
   "metadata": {},
   "outputs": [
    {
     "data": {
      "text/plain": [
       "<AxesSubplot:xlabel='epoch'>"
      ]
     },
     "execution_count": 16,
     "metadata": {},
     "output_type": "execute_result"
    },
    {
     "data": {
      "image/png": "[encoded data removed]",
      "text/plain": [
       "<Figure size 432x288 with 1 Axes>"
      ]
     },
     "metadata": {
      "needs_background": "light"
     },
     "output_type": "display_data"
    }
   ],
   "source": [
    "lstm_scores_df = pd.read_csv(\"lstm.csv\")\n",
    "lstm_scores_df.set_index('epoch', inplace=True)\n",
    "# lstm_scores_df[['loss','val_loss']].plot()\n",
    "\n",
    "lstm_scores_df[['loss','val_loss']].plot()\n"
   ]
  },
  {
   "cell_type": "markdown",
   "id": "incorrect-tribute",
   "metadata": {
    "pycharm": {
     "name": "#%% md\n"
    }
   },
   "source": [
    "### Word-wise CNN Model\n",
    "https://machinelearningmastery.com/develop-word-embedding-model-predicting-movie-review-sentiment/"
   ]
  },
  {
   "cell_type": "code",
   "execution_count": 17,
   "id": "floating-canal",
   "metadata": {},
   "outputs": [
    {
     "name": "stdout",
     "output_type": "stream",
     "text": [
      "Model: \"sequential_2\"\n",
      "_________________________________________________________________\n",
      "Layer (type)                 Output Shape              Param #   \n",
      "=================================================================\n",
      "embedding_2 (Embedding)      (None, 32, 50)            104000    \n",
      "_________________________________________________________________\n",
      "conv1d (Conv1D)              (None, 25, 50)            20050     \n",
      "_________________________________________________________________\n",
      "max_pooling1d (MaxPooling1D) (None, 12, 50)            0         \n",
      "_________________________________________________________________\n",
      "flatten (Flatten)            (None, 600)               0         \n",
      "_________________________________________________________________\n",
      "dense_2 (Dense)              (None, 10)                6010      \n",
      "_________________________________________________________________\n",
      "dense_3 (Dense)              (None, 1)                 11        \n",
      "=================================================================\n",
      "Total params: 130,071\n",
      "Trainable params: 130,071\n",
      "Non-trainable params: 0\n",
      "_________________________________________________________________\n",
      "None\n"
     ]
    }
   ],
   "source": [
    "embedding_size = 50\n",
    "cnn_model = Sequential()\n",
    "cnn_model.add(Embedding(vocab_size, embedding_size, input_length=longest_post))\n",
    "cnn_model.add(Conv1D(embedding_size,kernel_size=8, activation='relu'))\n",
    "cnn_model.add(MaxPooling1D(pool_size=2))\n",
    "cnn_model.add(Flatten())\n",
    "cnn_model.add(Dense(10, activation='relu'))\n",
    "cnn_model.add(Dense(1, activation='sigmoid'))\n",
    "cnn_model.compile(loss='binary_crossentropy',optimizer='adam',metrics=['accuracy'])\n",
    "print(cnn_model.summary())"
   ]
  },
  {
   "cell_type": "code",
   "execution_count": 18,
   "id": "regular-vampire",
   "metadata": {},
   "outputs": [
    {
     "name": "stdout",
     "output_type": "stream",
     "text": [
      "Epoch 1/20\n",
      "21/21 [==============================] - 1s 4ms/step - loss: 0.6919 - accuracy: 0.5323\n",
      "Epoch 2/20\n",
      "21/21 [==============================] - 0s 3ms/step - loss: 0.6397 - accuracy: 0.7467\n",
      "Epoch 3/20\n",
      "21/21 [==============================] - 0s 4ms/step - loss: 0.3486 - accuracy: 0.9689\n",
      "Epoch 4/20\n",
      "21/21 [==============================] - 0s 4ms/step - loss: 0.0867 - accuracy: 0.9886\n",
      "Epoch 5/20\n",
      "21/21 [==============================] - 0s 4ms/step - loss: 0.0393 - accuracy: 0.9895\n",
      "Epoch 6/20\n",
      "21/21 [==============================] - 0s 4ms/step - loss: 0.0402 - accuracy: 0.9907\n",
      "Epoch 7/20\n",
      "21/21 [==============================] - 0s 4ms/step - loss: 0.0496 - accuracy: 0.9836\n",
      "Epoch 8/20\n",
      "21/21 [==============================] - 0s 4ms/step - loss: 0.0445 - accuracy: 0.9856\n",
      "Epoch 9/20\n",
      "21/21 [==============================] - 0s 4ms/step - loss: 0.0095 - accuracy: 0.9969\n",
      "Epoch 10/20\n",
      "21/21 [==============================] - 0s 4ms/step - loss: 0.0093 - accuracy: 0.9982\n",
      "Epoch 11/20\n",
      "21/21 [==============================] - 0s 4ms/step - loss: 0.0137 - accuracy: 0.9938\n",
      "Epoch 12/20\n",
      "21/21 [==============================] - 0s 4ms/step - loss: 0.0076 - accuracy: 0.9985\n",
      "Epoch 13/20\n",
      "21/21 [==============================] - 0s 4ms/step - loss: 0.0065 - accuracy: 0.9976\n",
      "Epoch 14/20\n",
      "21/21 [==============================] - 0s 4ms/step - loss: 0.0105 - accuracy: 0.9946\n",
      "Epoch 15/20\n",
      "21/21 [==============================] - 0s 4ms/step - loss: 0.0109 - accuracy: 0.9946\n",
      "Epoch 16/20\n",
      "21/21 [==============================] - 0s 4ms/step - loss: 0.0049 - accuracy: 0.9965\n",
      "Epoch 17/20\n",
      "21/21 [==============================] - 0s 4ms/step - loss: 0.0038 - accuracy: 1.0000\n",
      "Epoch 18/20\n",
      "21/21 [==============================] - 0s 4ms/step - loss: 0.0034 - accuracy: 0.9990\n",
      "Epoch 19/20\n",
      "21/21 [==============================] - 0s 5ms/step - loss: 0.0026 - accuracy: 0.9997\n",
      "Epoch 20/20\n",
      "21/21 [==============================] - 0s 3ms/step - loss: 0.0027 - accuracy: 1.0000\n"
     ]
    },
    {
     "data": {
      "text/plain": [
       "<tensorflow.python.keras.callbacks.History at 0x153d785b0>"
      ]
     },
     "execution_count": 18,
     "metadata": {},
     "output_type": "execute_result"
    }
   ],
   "source": [
    "num_epochs = 20\n",
    "\n",
    "csv_logger = CSVLogger(\"cnn.csv\", append=False)\n",
    "\n",
    "cnn_model.fit(X_train, y_train, epochs=num_epochs, verbose=1)"
   ]
  },
  {
   "cell_type": "code",
   "execution_count": 19,
   "id": "surgical-escape",
   "metadata": {
    "pycharm": {
     "name": "#%%\n"
    }
   },
   "outputs": [
    {
     "name": "stdout",
     "output_type": "stream",
     "text": [
      "Test accuracy: 0.9878787994384766\n"
     ]
    }
   ],
   "source": [
    "scores = cnn_model.evaluate(X_test, y_test, verbose=0)\n",
    "print('Test accuracy:', scores[1])"
   ]
  },
  {
   "cell_type": "code",
   "execution_count": 20,
   "id": "collect-undergraduate",
   "metadata": {},
   "outputs": [
    {
     "data": {
      "text/plain": [
       "<AxesSubplot:xlabel='epoch'>"
      ]
     },
     "execution_count": 20,
     "metadata": {},
     "output_type": "execute_result"
    },
    {
     "data": {
      "image/png": "[encoded data removed]",
      "text/plain": [
       "<Figure size 432x288 with 1 Axes>"
      ]
     },
     "metadata": {
      "needs_background": "light"
     },
     "output_type": "display_data"
    }
   ],
   "source": [
    "cnn_scores_df = pd.read_csv(\"cnn.csv\")\n",
    "cnn_scores_df.set_index('epoch', inplace=True)\n",
    "cnn_scores_df[['loss','val_loss']].plot()"
   ]
  },
  {
   "cell_type": "markdown",
   "id": "appropriate-stanford",
   "metadata": {
    "pycharm": {
     "name": "#%% md\n"
    }
   },
   "source": [
    "##### Problems with this approach:\n",
    "- after coding this section, I realized that using the entire set to build the embedding dictionary is \"cheating\": in the real world, we would not have access to the test data\n",
    "- I decided to see how much the results would be affected by separating train and test data before building the dictionary\n",
    "- unfortunately, the results were much worse. This makes sense because missing words would have no assocation to a label\n",
    "- this is why we want to use similarity vectors for words.\n",
    "- as you can see below, the in-sample accuracy converges to nearly 1, while the validation accuracy hovers around 50%"
   ]
  },
  {
   "cell_type": "code",
   "execution_count": 36,
   "id": "equivalent-history",
   "metadata": {},
   "outputs": [
    {
     "name": "stderr",
     "output_type": "stream",
     "text": [
      "<__array_function__ internals>:5: VisibleDeprecationWarning: Creating an ndarray from ragged nested sequences (which is a list-or-tuple of lists-or-tuples-or ndarrays with different lengths or shapes) is deprecated. If you meant to do this, you must specify 'dtype=object' when creating the ndarray\n",
      "<__array_function__ internals>:5: VisibleDeprecationWarning: Creating an ndarray from ragged nested sequences (which is a list-or-tuple of lists-or-tuples-or ndarrays with different lengths or shapes) is deprecated. If you meant to do this, you must specify 'dtype=object' when creating the ndarray\n"
     ]
    },
    {
     "name": "stdout",
     "output_type": "stream",
     "text": [
      "X_train shape: (800, 149) (800,)\n",
      "X_test shape: (200, 149) (200,)\n",
      "Model: \"sequential_5\"\n",
      "_________________________________________________________________\n",
      "Layer (type)                 Output Shape              Param #   \n",
      "=================================================================\n",
      "embedding_5 (Embedding)      (None, 149, 32)           77472     \n",
      "_________________________________________________________________\n",
      "lstm_3 (LSTM)                (None, 32)                8320      \n",
      "_________________________________________________________________\n",
      "dropout_3 (Dropout)          (None, 32)                0         \n",
      "_________________________________________________________________\n",
      "dense_7 (Dense)              (None, 1)                 33        \n",
      "=================================================================\n",
      "Total params: 85,825\n",
      "Trainable params: 85,825\n",
      "Non-trainable params: 0\n",
      "_________________________________________________________________\n",
      "None\n",
      "Epoch 1/10\n",
      "25/25 [==============================] - 3s 50ms/step - loss: 0.6902 - accuracy: 0.5633 - val_loss: 0.6950 - val_accuracy: 0.4350\n",
      "Epoch 2/10\n",
      "25/25 [==============================] - 1s 33ms/step - loss: 0.6284 - accuracy: 0.9302 - val_loss: 0.7002 - val_accuracy: 0.5100\n",
      "Epoch 3/10\n",
      "25/25 [==============================] - 1s 41ms/step - loss: 0.4004 - accuracy: 0.9637 - val_loss: 0.6920 - val_accuracy: 0.5800\n",
      "Epoch 4/10\n",
      "25/25 [==============================] - 1s 33ms/step - loss: 0.2491 - accuracy: 0.9814 - val_loss: 0.7955 - val_accuracy: 0.5400\n",
      "Epoch 5/10\n",
      "25/25 [==============================] - 1s 32ms/step - loss: 0.1449 - accuracy: 0.9702 - val_loss: 0.8199 - val_accuracy: 0.5100\n",
      "Epoch 6/10\n",
      "25/25 [==============================] - 1s 32ms/step - loss: 0.0909 - accuracy: 0.9903 - val_loss: 0.8609 - val_accuracy: 0.4200\n",
      "Epoch 7/10\n",
      "25/25 [==============================] - 1s 31ms/step - loss: 0.0831 - accuracy: 0.9990 - val_loss: 0.8305 - val_accuracy: 0.5300\n",
      "Epoch 8/10\n",
      "25/25 [==============================] - 1s 32ms/step - loss: 0.0448 - accuracy: 0.9999 - val_loss: 0.9567 - val_accuracy: 0.5050\n",
      "Epoch 9/10\n",
      "25/25 [==============================] - 1s 34ms/step - loss: 0.0346 - accuracy: 0.9924 - val_loss: 1.0161 - val_accuracy: 0.5900\n",
      "Epoch 10/10\n",
      "25/25 [==============================] - 1s 36ms/step - loss: 0.0437 - accuracy: 0.9879 - val_loss: 0.9623 - val_accuracy: 0.5050\n",
      "Test accuracy: 0.5049999952316284\n"
     ]
    }
   ],
   "source": [
    "def preprocess(df):\n",
    "    # separate into positive and negative posts\n",
    "    positive_posts = pd.Series.to_numpy(df[df.label == 1]['text'])\n",
    "    negative_posts = pd.Series.to_numpy(df[df.label == 0]['text'])\n",
    "\n",
    "    # keep an object with both sets for later use\n",
    "    posts = np.append(negative_posts, positive_posts, axis=0)\n",
    "    \n",
    "    neg_encoded = word_to_vec(negative_posts)\n",
    "    pos_encoded = word_to_vec(positive_posts)\n",
    "    word_vecs = np.concatenate((neg_encoded, pos_encoded))\n",
    "    \n",
    "    # Padding the data samples to a maximum review length in words\n",
    "#     longest_post = max([len(post) for post in word_to_vec(posts)])\n",
    "    padded_word_vecs = sequence.pad_sequences(word_vecs, maxlen=149)\n",
    "    \n",
    "    labels = np.concatenate((np.zeros(len(neg_encoded)), np.ones(len(pos_encoded))))\n",
    "    \n",
    "    return padded_word_vecs,labels\n",
    "\n",
    "X_train, y_train = preprocess(train_df)\n",
    "X_test, y_test = preprocess(test_df)\n",
    "\n",
    "print('X_train shape:', X_train.shape, y_train.shape)\n",
    "print('X_test shape:', X_test.shape, y_test.shape)\n",
    "\n",
    "vocab_size = max([max(arr) for arr in word_to_vec(posts)])\n",
    "embedding_size = 32\n",
    "lstm_model = Sequential()\n",
    "lstm_model.add(Embedding(vocab_size, embedding_size, input_length=longest_post))\n",
    "lstm_model.add(LSTM(embedding_size))\n",
    "lstm_model.add(Dropout(0.5))\n",
    "lstm_model.add(Dense(1, activation='sigmoid'))\n",
    "print(lstm_model.summary())\n",
    "lstm_model.compile(loss='binary_crossentropy',optimizer='adam',metrics=['accuracy'])\n",
    "\n",
    "batch_size = 64\n",
    "num_epochs = 10\n",
    "csv_logger = CSVLogger(\"lstm.csv\", append=False)\n",
    "lstm_model.fit(X_train, y_train, \n",
    "               epochs=num_epochs, \n",
    "               verbose=1,\n",
    "               callbacks=[csv_logger],\n",
    "               validation_data=(X_test,y_test)\n",
    "              )\n",
    "\n",
    "scores = lstm_model.evaluate(X_test, y_test, verbose=0)\n",
    "print('Test accuracy:', scores[1])"
   ]
  },
  {
   "cell_type": "code",
   "execution_count": 21,
   "id": "aging-joseph",
   "metadata": {},
   "outputs": [],
   "source": [
    "#todo: play around with different values for the two models above. \n",
    "# Add different layers\n",
    "# show convergence of validation loss after number of epochs\n",
    "# show difference using dictionaries from full set vs just train set"
   ]
  },
  {
   "cell_type": "markdown",
   "id": "rapid-custody",
   "metadata": {
    "pycharm": {
     "name": "#%% md\n"
    }
   },
   "source": [
    "### Vectorize the character data"
   ]
  },
  {
   "cell_type": "code",
   "execution_count": 22,
   "id": "anticipated-storm",
   "metadata": {
    "pycharm": {
     "name": "#%%\n"
    }
   },
   "outputs": [],
   "source": [
    "def char_tokenizer(lines):\n",
    "    tk = Tokenizer(num_words=None, char_level=True, oov_token='UNK')\n",
    "    lines_low = [[l.lower() for l in lines]]\n",
    "    tk.fit_on_texts(lines_low)\n",
    "\n",
    "    alphabet = \"abcdefghijklmnopqrstuvwxyz0123456789,;.!?:'\\\"/\\\\|_@#$%^&*~`+-=<>()[]{}\"\n",
    "    char_dict = {}\n",
    "    for i, char in enumerate(alphabet):\n",
    "        char_dict[char] = i + 1\n",
    "\n",
    "    # Use char_dict to replace the tk.word_index\n",
    "    tk.word_index = char_dict.copy()\n",
    "    # Add 'UNK' to the vocabulary\n",
    "    tk.word_index[tk.oov_token] = max(char_dict.values()) + 1\n",
    "    return tk"
   ]
  },
  {
   "cell_type": "code",
   "execution_count": 23,
   "id": "chronic-temple",
   "metadata": {},
   "outputs": [],
   "source": [
    "def embed_weights(tk):\n",
    "    vocab_size = len(tk.word_index)\n",
    "    embedding_weights = []\n",
    "    embedding_weights.append(np.zeros(vocab_size))\n",
    "\n",
    "    for char,i in tk.word_index.items():\n",
    "        onehot = np.zeros(vocab_size)\n",
    "        onehot[i-1] = 1\n",
    "        embedding_weights.append(onehot)\n",
    "\n",
    "    return np.array(embedding_weights)"
   ]
  },
  {
   "cell_type": "code",
   "execution_count": 24,
   "id": "intellectual-animal",
   "metadata": {},
   "outputs": [
    {
     "name": "stdout",
     "output_type": "stream",
     "text": [
      "Wow... Loved this place. becomes [23, 15, 23, 39, 39, 39, 69, 12, 15, 22, 5, 4, 69, 20, 8, 9, 19, 69, 16, 12, 1, 3, 5, 39]\n"
     ]
    }
   ],
   "source": [
    "# transform reviews into character encodings:\n",
    "\n",
    "posts = positive_posts + negative_posts\n",
    "tk = char_tokenizer(posts)\n",
    "vocab_size = len(tk.word_index)\n",
    "pos_seqs = tk.texts_to_sequences(positive_posts)\n",
    "neg_seqs = tk.texts_to_sequences(negative_posts)\n",
    "print(f'{positive_posts[0]} becomes {pos_seqs[0]}')"
   ]
  },
  {
   "cell_type": "code",
   "execution_count": 25,
   "id": "respective-theory",
   "metadata": {},
   "outputs": [
    {
     "name": "stdout",
     "output_type": "stream",
     "text": [
      "longest post is 149 characters long\n"
     ]
    },
    {
     "name": "stderr",
     "output_type": "stream",
     "text": [
      "/Users/polinab/.virtualenvs/deep/lib/python3.8/site-packages/numpy/core/_asarray.py:136: VisibleDeprecationWarning: Creating an ndarray from ragged nested sequences (which is a list-or-tuple of lists-or-tuples-or ndarrays with different lengths or shapes) is deprecated. If you meant to do this, you must specify 'dtype=object' when creating the ndarray\n",
      "  return array(a, dtype, copy=False, order=order, subok=True)\n",
      "<__array_function__ internals>:5: VisibleDeprecationWarning: Creating an ndarray from ragged nested sequences (which is a list-or-tuple of lists-or-tuples-or ndarrays with different lengths or shapes) is deprecated. If you meant to do this, you must specify 'dtype=object' when creating the ndarray\n"
     ]
    }
   ],
   "source": [
    "longest_post = max([len(x) for x in np.append(neg_seqs, pos_seqs, axis=0)])\n",
    "print(f'longest post is {longest_post} characters long')"
   ]
  },
  {
   "cell_type": "code",
   "execution_count": 27,
   "id": "white-spencer",
   "metadata": {},
   "outputs": [
    {
     "name": "stdout",
     "output_type": "stream",
     "text": [
      "X_train shape: (670, 149) (670,)\n",
      "X_test shape: (330, 149) (330,)\n"
     ]
    }
   ],
   "source": [
    "# pad data:\n",
    "\n",
    "pos_seq_padded = pad_sequences(pos_seqs, maxlen=longest_post, padding='post')\n",
    "neg_seq_padded = pad_sequences(neg_seqs, maxlen=longest_post, padding='post')\n",
    "\n",
    "pos_data = np.array(pos_seq_padded, dtype='float32')\n",
    "neg_data = np.array(neg_seq_padded, dtype='float32')\n",
    "pos_data[0]"
   ]
  },
  {
   "cell_type": "code",
   "execution_count": 28,
   "id": "commercial-tribune",
   "metadata": {},
   "outputs": [],
   "source": [
    "# define embedding layer \n",
    "def embed_weights(tk):\n",
    "    vocab_size = len(tk.word_index)\n",
    "    embedding_weights = []\n",
    "    embedding_weights.append(np.zeros(vocab_size))\n",
    "\n",
    "    for char,i in tk.word_index.items():\n",
    "        onehot = np.zeros(vocab_size)\n",
    "        onehot[i-1] = 1\n",
    "        embedding_weights.append(onehot)\n",
    "\n",
    "    return np.array(embedding_weights)"
   ]
  },
  {
   "cell_type": "code",
   "execution_count": 29,
   "id": "casual-senate",
   "metadata": {},
   "outputs": [],
   "source": [
    "embedding_size = 69 #TODO: find where this number comes from\n",
    "input_size = longest_post\n",
    "em_weights = embed_weights(tk)\n",
    "embedding_layer = Embedding(vocab_size+1,embedding_size,input_length=input_size,weights=[em_weights])\n"
   ]
  },
  {
   "cell_type": "markdown",
   "id": "verified-cooling",
   "metadata": {},
   "source": [
    "### Tune and run the character-wise CNN model\n",
    "https://realpython.com/python-keras-text-classification/"
   ]
  },
  {
   "cell_type": "code",
   "execution_count": 30,
   "id": "assured-practitioner",
   "metadata": {},
   "outputs": [
    {
     "name": "stdout",
     "output_type": "stream",
     "text": [
      "Model: \"sequential_3\"\n",
      "_________________________________________________________________\n",
      "Layer (type)                 Output Shape              Param #   \n",
      "=================================================================\n",
      "embedding_3 (Embedding)      (None, 149, 69)           4830      \n",
      "_________________________________________________________________\n",
      "conv1d_1 (Conv1D)            (None, 142, 69)           38157     \n",
      "_________________________________________________________________\n",
      "global_max_pooling1d (Global (None, 69)                0         \n",
      "_________________________________________________________________\n",
      "flatten_1 (Flatten)          (None, 69)                0         \n",
      "_________________________________________________________________\n",
      "dense_4 (Dense)              (None, 10)                700       \n",
      "_________________________________________________________________\n",
      "dense_5 (Dense)              (None, 1)                 11        \n",
      "=================================================================\n",
      "Total params: 43,698\n",
      "Trainable params: 43,698\n",
      "Non-trainable params: 0\n",
      "_________________________________________________________________\n",
      "None\n"
     ]
    }
   ],
   "source": [
    "cnn_char_model = Sequential()\n",
    "cnn_char_model.add(embedding_layer)\n",
    "cnn_char_model.add(Conv1D(embedding_size, kernel_size=8, activation='relu'))\n",
    "# cnn_char_model.add(MaxPooling1D(pool_size=2))\n",
    "cnn_char_model.add(GlobalMaxPooling1D())\n",
    "\n",
    "cnn_char_model.add(Flatten())\n",
    "cnn_char_model.add(Dense(10, activation='relu'))\n",
    "cnn_char_model.add(Dense(1, activation='sigmoid'))\n",
    "cnn_char_model.compile(loss='binary_crossentropy', optimizer='adam', metrics=['accuracy'])\n",
    "print(cnn_char_model.summary())\n"
   ]
  },
  {
   "cell_type": "code",
   "execution_count": 31,
   "id": "agricultural-dayton",
   "metadata": {},
   "outputs": [
    {
     "data": {
      "text/plain": [
       "<tensorflow.python.keras.callbacks.History at 0x153ffb550>"
      ]
     },
     "execution_count": 31,
     "metadata": {},
     "output_type": "execute_result"
    }
   ],
   "source": [
    "num_epochs = 20\n",
    "\n",
    "csv_logger = CSVLogger(\"cnn_char.csv\", append=False)\n",
    "cnn_char_model.fit(X_train, y_train, \n",
    "               epochs=num_epochs, \n",
    "               verbose=0,\n",
    "               callbacks=[csv_logger],\n",
    "               validation_data=(X_test,y_test)\n",
    "              )"
   ]
  },
  {
   "cell_type": "code",
   "execution_count": 32,
   "id": "front-resource",
   "metadata": {},
   "outputs": [
    {
     "name": "stdout",
     "output_type": "stream",
     "text": [
      "Test accuracy: 0.7939394116401672\n"
     ]
    }
   ],
   "source": [
    "scores = cnn_char_model.evaluate(X_test, y_test, verbose=0)\n",
    "print('Test accuracy:', scores[1])"
   ]
  },
  {
   "cell_type": "code",
   "execution_count": 33,
   "id": "killing-lesson",
   "metadata": {},
   "outputs": [
    {
     "data": {
      "text/plain": [
       "<AxesSubplot:xlabel='epoch'>"
      ]
     },
     "execution_count": 33,
     "metadata": {},
     "output_type": "execute_result"
    },
    {
     "data": {
      "image/png": "[encoded data removed]",
      "text/plain": [
       "<Figure size 432x288 with 1 Axes>"
      ]
     },
     "metadata": {
      "needs_background": "light"
     },
     "output_type": "display_data"
    }
   ],
   "source": [
    "cnn_scores_df = pd.read_csv(\"cnn_char.csv\")\n",
    "cnn_scores_df.set_index('epoch', inplace=True)\n",
    "cnn_scores_df[['loss','val_loss']].plot()\n"
   ]
  }
 ],
 "metadata": {
  "kernelspec": {
   "display_name": "Python 3",
   "language": "python",
   "name": "python3"
  },
  "language_info": {
   "codemirror_mode": {
    "name": "ipython",
    "version": 3
   },
   "file_extension": ".py",
   "mimetype": "text/x-python",
   "name": "python",
   "nbconvert_exporter": "python",
   "pygments_lexer": "ipython3",
   "version": "3.8.5"
  }
 },
 "nbformat": 4,
 "nbformat_minor": 5
}