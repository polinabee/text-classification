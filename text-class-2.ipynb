{
 "cells": [
  {
   "cell_type": "code",
   "execution_count": 1,
   "id": "tough-national",
   "metadata": {},
   "outputs": [
    {
     "name": "stderr",
     "output_type": "stream",
     "text": [
      "/Users/polinab/.virtualenvs/deep/lib/python3.8/site-packages/pandas/compat/__init__.py:97: UserWarning: Could not import the lzma module. Your installed Python is incomplete. Attempting to use lzma compression will result in a RuntimeError.\n",
      "  warnings.warn(msg)\n",
      "[nltk_data] Downloading package stopwords to\n",
      "[nltk_data]     /Users/polinab/nltk_data...\n",
      "[nltk_data]   Package stopwords is already up-to-date!\n"
     ]
    }
   ],
   "source": [
    "import pandas as pd\n",
    "import numpy as np\n",
    "import string\n",
    "import nltk\n",
    "from nltk.corpus import stopwords\n",
    "nltk.download('stopwords')\n",
    "from tensorflow.keras.models import Sequential\n",
    "from tensorflow.keras.layers import Dense, Dropout\n",
    "from tensorflow.keras.layers import Embedding\n",
    "from tensorflow.keras.layers import LSTM\n",
    "from tensorflow.keras.preprocessing import sequence\n",
    "from sklearn.model_selection import train_test_split\n",
    "import matplotlib.pyplot as plt\n",
    "import seaborn as sns\n",
    "from keras.callbacks import CSVLogger\n"
   ]
  },
  {
   "cell_type": "markdown",
   "id": "corrected-strain",
   "metadata": {},
   "source": [
    "### Import and explore data"
   ]
  },
  {
   "cell_type": "code",
   "execution_count": 2,
   "id": "quarterly-billion",
   "metadata": {},
   "outputs": [
    {
     "data": {
      "text/html": [
       "<div>\n",
       "<style scoped>\n",
       "    .dataframe tbody tr th:only-of-type {\n",
       "        vertical-align: middle;\n",
       "    }\n",
       "\n",
       "    .dataframe tbody tr th {\n",
       "        vertical-align: top;\n",
       "    }\n",
       "\n",
       "    .dataframe thead th {\n",
       "        text-align: right;\n",
       "    }\n",
       "</style>\n",
       "<table border=\"1\" class=\"dataframe\">\n",
       "  <thead>\n",
       "    <tr style=\"text-align: right;\">\n",
       "      <th></th>\n",
       "      <th>text</th>\n",
       "      <th>label</th>\n",
       "    </tr>\n",
       "  </thead>\n",
       "  <tbody>\n",
       "    <tr>\n",
       "      <th>0</th>\n",
       "      <td>Wow... Loved this place.</td>\n",
       "      <td>1</td>\n",
       "    </tr>\n",
       "    <tr>\n",
       "      <th>1</th>\n",
       "      <td>Crust is not good.</td>\n",
       "      <td>0</td>\n",
       "    </tr>\n",
       "    <tr>\n",
       "      <th>2</th>\n",
       "      <td>Not tasty and the texture was just nasty.</td>\n",
       "      <td>0</td>\n",
       "    </tr>\n",
       "    <tr>\n",
       "      <th>3</th>\n",
       "      <td>Stopped by during the late May bank holiday of...</td>\n",
       "      <td>1</td>\n",
       "    </tr>\n",
       "    <tr>\n",
       "      <th>4</th>\n",
       "      <td>The selection on the menu was great and so wer...</td>\n",
       "      <td>1</td>\n",
       "    </tr>\n",
       "  </tbody>\n",
       "</table>\n",
       "</div>"
      ],
      "text/plain": [
       "                                                text  label\n",
       "0                           Wow... Loved this place.      1\n",
       "1                                 Crust is not good.      0\n",
       "2          Not tasty and the texture was just nasty.      0\n",
       "3  Stopped by during the late May bank holiday of...      1\n",
       "4  The selection on the menu was great and so wer...      1"
      ]
     },
     "execution_count": 2,
     "metadata": {},
     "output_type": "execute_result"
    }
   ],
   "source": [
    "yelp_labelled = pd.read_csv('yelp_labelled.txt', sep='\\t', header=None)\n",
    "yelp_labelled.columns = ['text', 'label']\n",
    "yelp_labelled.head(5)"
   ]
  },
  {
   "cell_type": "code",
   "execution_count": 3,
   "id": "medieval-cotton",
   "metadata": {},
   "outputs": [
    {
     "data": {
      "text/plain": [
       "<AxesSubplot:xlabel='label', ylabel='Count'>"
      ]
     },
     "execution_count": 3,
     "metadata": {},
     "output_type": "execute_result"
    },
    {
     "data": {
      "image/png": "[encoded data removed]",
      "text/plain": [
       "<Figure size 432x288 with 1 Axes>"
      ]
     },
     "metadata": {
      "needs_background": "light"
     },
     "output_type": "display_data"
    }
   ],
   "source": [
    "sns.histplot(data=yelp_labelled, x=\"label\",bins=2,binwidth=0.4)\n"
   ]
  },
  {
   "cell_type": "markdown",
   "id": "uniform-priest",
   "metadata": {},
   "source": [
    "- 0 and 1 labels are equally distributed, so we do not need to resample the data\n",
    "- 0 is a bad review, 1 is a good review\n",
    "- small set of data, so we can use all of it"
   ]
  },
  {
   "cell_type": "markdown",
   "id": "accepted-class",
   "metadata": {},
   "source": [
    "### Vectorize the word data\n",
    "- a neural network model cannot interpret words, they need to be encoded into numbers\n",
    "- external libraries exist that do this, like Word2Vec\n",
    "- After playing around with the libraries I decided to make my own encoding to fully understand how the basics work\n",
    "- getting rid of stop words made the model perform worse. Understandable since sequentially many of the stop words actually add information to the phrases! "
   ]
  },
  {
   "cell_type": "code",
   "execution_count": 4,
   "id": "turkish-sellers",
   "metadata": {},
   "outputs": [],
   "source": [
    "# separate into positive and negative posts\n",
    "positive_posts = pd.Series.to_numpy(yelp_labelled[yelp_labelled.label == 1]['text'])\n",
    "negative_posts = pd.Series.to_numpy(yelp_labelled[yelp_labelled.label == 0]['text'])\n",
    "\n",
    "# keep an object with both sets for later use\n",
    "posts = positive_posts + negative_posts"
   ]
  },
  {
   "cell_type": "code",
   "execution_count": 5,
   "id": "younger-mentor",
   "metadata": {},
   "outputs": [],
   "source": [
    "def unique_words(lines):\n",
    "    '''\n",
    "    returns dictionary of unique words in input\n",
    "    assigns an integer key to each word\n",
    "    does not include punctuation or stop words \n",
    "    stop words can be removed or included depending on the model\n",
    "    '''\n",
    "    unique_words = set()\n",
    "    stop_words = set(stopwords.words('english'))\n",
    "\n",
    "    for line in lines:\n",
    "        for word in line:\n",
    "#             if word not in stop_words:\n",
    "#                 unique_words.add(word)\n",
    "            unique_words.add(word)\n",
    "    word_vals = set(i for i in range(len(unique_words)))\n",
    "    word_keys = dict(zip(unique_words, word_vals))\n",
    "    return word_keys\n",
    "\n",
    "def word_to_vec(posts):\n",
    "    '''\n",
    "    encodes word input into integer arrays \n",
    "    stop words can be removed or included depending on the model\n",
    "    '''\n",
    "    stop_words = set(stopwords.words('english'))\n",
    "    posts = [line.lower().translate(str.maketrans('', '', string.punctuation)).split(' ') for line in posts]\n",
    "    word_dict = unique_words(posts)\n",
    "    word_key_map = [[word_dict[word] for word in post] for post in posts]\n",
    "#     word_key_map = [[word_dict[word] for word in post if word not in stop_words] for post in posts]\n",
    "    return word_key_map"
   ]
  },
  {
   "cell_type": "code",
   "execution_count": 6,
   "id": "balanced-forestry",
   "metadata": {},
   "outputs": [
    {
     "name": "stdout",
     "output_type": "stream",
     "text": [
      "\"Crust is not good.\" becomes [1057, 1129, 1394, 881]\n"
     ]
    },
    {
     "name": "stderr",
     "output_type": "stream",
     "text": [
      "<__array_function__ internals>:5: VisibleDeprecationWarning: Creating an ndarray from ragged nested sequences (which is a list-or-tuple of lists-or-tuples-or ndarrays with different lengths or shapes) is deprecated. If you meant to do this, you must specify 'dtype=object' when creating the ndarray\n"
     ]
    }
   ],
   "source": [
    "neg_encoded = word_to_vec(negative_posts)\n",
    "pos_encoded = word_to_vec(positive_posts)\n",
    "word_vecs = np.concatenate((neg_encoded, pos_encoded))\n",
    "print(f'\"{negative_posts[0]}\" becomes {word_vecs[0]}')"
   ]
  },
  {
   "cell_type": "code",
   "execution_count": 7,
   "id": "solved-robin",
   "metadata": {},
   "outputs": [
    {
     "data": {
      "text/plain": [
       "array([   0,    0,    0,    0,    0,    0,    0,    0,    0,    0,    0,\n",
       "          0,    0,    0,    0,    0,    0,    0,    0,    0,    0,    0,\n",
       "          0,    0,    0,    0,    0,    0,    0,    0,    0,    0,    0,\n",
       "          0,    0,    0,    0,    0,    0,    0,    0,    0, 1057, 1129,\n",
       "       1394,  881], dtype=int32)"
      ]
     },
     "execution_count": 7,
     "metadata": {},
     "output_type": "execute_result"
    }
   ],
   "source": [
    "# Padding the data samples to a maximum review length in words\n",
    "longest_post = max(len(post) for post in word_to_vec(posts))\n",
    "padded_word_vecs = sequence.pad_sequences(word_vecs, maxlen=longest_post)\n",
    "padded_word_vecs[0]"
   ]
  },
  {
   "cell_type": "code",
   "execution_count": 8,
   "id": "angry-vietnam",
   "metadata": {},
   "outputs": [
    {
     "name": "stdout",
     "output_type": "stream",
     "text": [
      "X_train shape: (670, 46) (670,)\n",
      "X_test shape: (330, 46) (330,)\n"
     ]
    }
   ],
   "source": [
    "# re-create labels, concatenate with data, and set up test/train split\n",
    "labels = np.concatenate((np.zeros(len(neg_encoded)), np.ones(len(pos_encoded))))\n",
    "X_train, X_test, y_train, y_test = train_test_split(padded_word_vecs,labels,test_size=0.33)\n",
    "\n",
    "print('X_train shape:', X_train.shape, y_train.shape)\n",
    "print('X_test shape:', X_test.shape, y_test.shape)"
   ]
  },
  {
   "cell_type": "markdown",
   "id": "cultural-programming",
   "metadata": {},
   "source": [
    "### LSTM Model\n",
    "LSTM is an artificial RNN architecture.\n",
    "reference: https://towardsdatascience.com/a-beginners-guide-on-sentiment-analysis-with-rnn-9e100627c02e"
   ]
  },
  {
   "cell_type": "code",
   "execution_count": 13,
   "id": "seeing-selling",
   "metadata": {},
   "outputs": [
    {
     "name": "stdout",
     "output_type": "stream",
     "text": [
      "Model: \"sequential_2\"\n",
      "_________________________________________________________________\n",
      "Layer (type)                 Output Shape              Param #   \n",
      "=================================================================\n",
      "embedding_2 (Embedding)      (None, 46, 32)            77472     \n",
      "_________________________________________________________________\n",
      "lstm_2 (LSTM)                (None, 32)                8320      \n",
      "_________________________________________________________________\n",
      "dropout_2 (Dropout)          (None, 32)                0         \n",
      "_________________________________________________________________\n",
      "dense_2 (Dense)              (None, 1)                 33        \n",
      "=================================================================\n",
      "Total params: 85,825\n",
      "Trainable params: 85,825\n",
      "Non-trainable params: 0\n",
      "_________________________________________________________________\n",
      "None\n"
     ]
    }
   ],
   "source": [
    "vocab_size = max([max(arr) for arr in word_to_vec(posts)])\n",
    "embedding_size = 32\n",
    "model = Sequential()\n",
    "model.add(Embedding(vocab_size, embedding_size, input_length=longest_post))\n",
    "model.add(LSTM(embedding_size))\n",
    "model.add(Dropout(0.5))\n",
    "model.add(Dense(1, activation='sigmoid'))\n",
    "print(model.summary())"
   ]
  },
  {
   "cell_type": "code",
   "execution_count": 27,
   "id": "million-initial",
   "metadata": {},
   "outputs": [
    {
     "name": "stdout",
     "output_type": "stream",
     "text": [
      "Epoch 1/20\n",
      "10/10 [==============================] - 2s 61ms/step - loss: 0.1322 - accuracy: 0.9618 - val_loss: 0.1447 - val_accuracy: 1.0000\n",
      "Epoch 2/20\n",
      "10/10 [==============================] - 0s 21ms/step - loss: 0.0945 - accuracy: 0.9917 - val_loss: 0.1379 - val_accuracy: 0.9688\n",
      "Epoch 3/20\n",
      "10/10 [==============================] - 0s 21ms/step - loss: 0.0956 - accuracy: 0.9913 - val_loss: 0.1165 - val_accuracy: 0.9688\n",
      "Epoch 4/20\n",
      "10/10 [==============================] - 0s 20ms/step - loss: 0.0761 - accuracy: 0.9936 - val_loss: 0.0987 - val_accuracy: 0.9688\n",
      "Epoch 5/20\n",
      "10/10 [==============================] - 0s 20ms/step - loss: 0.0558 - accuracy: 0.9937 - val_loss: 0.0844 - val_accuracy: 0.9688\n",
      "Epoch 6/20\n",
      "10/10 [==============================] - 0s 20ms/step - loss: 0.0471 - accuracy: 0.9989 - val_loss: 0.0798 - val_accuracy: 0.9688\n",
      "Epoch 7/20\n",
      "10/10 [==============================] - 0s 20ms/step - loss: 0.0389 - accuracy: 0.9963 - val_loss: 0.0748 - val_accuracy: 0.9688\n",
      "Epoch 8/20\n",
      "10/10 [==============================] - 0s 19ms/step - loss: 0.0311 - accuracy: 0.9983 - val_loss: 0.0621 - val_accuracy: 0.9688\n",
      "Epoch 9/20\n",
      "10/10 [==============================] - 0s 20ms/step - loss: 0.0308 - accuracy: 0.9956 - val_loss: 0.0639 - val_accuracy: 0.9688\n",
      "Epoch 10/20\n",
      "10/10 [==============================] - 0s 22ms/step - loss: 0.0220 - accuracy: 0.9992 - val_loss: 0.0518 - val_accuracy: 0.9688\n",
      "Epoch 11/20\n",
      "10/10 [==============================] - 0s 20ms/step - loss: 0.0188 - accuracy: 0.9975 - val_loss: 0.0747 - val_accuracy: 0.9688\n",
      "Epoch 12/20\n",
      "10/10 [==============================] - 0s 19ms/step - loss: 0.0173 - accuracy: 1.0000 - val_loss: 0.0486 - val_accuracy: 0.9688\n",
      "Epoch 13/20\n",
      "10/10 [==============================] - 0s 19ms/step - loss: 0.0170 - accuracy: 1.0000 - val_loss: 0.0635 - val_accuracy: 0.9688\n",
      "Epoch 14/20\n",
      "10/10 [==============================] - 0s 24ms/step - loss: 0.0137 - accuracy: 0.9983 - val_loss: 0.0643 - val_accuracy: 0.9688\n",
      "Epoch 15/20\n",
      "10/10 [==============================] - 0s 24ms/step - loss: 0.0126 - accuracy: 0.9986 - val_loss: 0.0717 - val_accuracy: 0.9688\n",
      "Epoch 16/20\n",
      "10/10 [==============================] - 0s 21ms/step - loss: 0.0136 - accuracy: 0.9957 - val_loss: 0.0549 - val_accuracy: 0.9688\n",
      "Epoch 17/20\n",
      "10/10 [==============================] - 0s 20ms/step - loss: 0.0090 - accuracy: 0.9994 - val_loss: 0.0738 - val_accuracy: 0.9688\n",
      "Epoch 18/20\n",
      "10/10 [==============================] - 0s 24ms/step - loss: 0.0113 - accuracy: 0.9957 - val_loss: 0.0761 - val_accuracy: 0.9688\n",
      "Epoch 19/20\n",
      "10/10 [==============================] - 0s 23ms/step - loss: 0.0084 - accuracy: 1.0000 - val_loss: 0.0654 - val_accuracy: 0.9688\n",
      "Epoch 20/20\n",
      "10/10 [==============================] - 0s 23ms/step - loss: 0.0066 - accuracy: 1.0000 - val_loss: 0.0566 - val_accuracy: 0.9688\n"
     ]
    },
    {
     "data": {
      "text/plain": [
       "<tensorflow.python.keras.callbacks.History at 0x14bf705e0>"
      ]
     },
     "execution_count": 27,
     "metadata": {},
     "output_type": "execute_result"
    }
   ],
   "source": [
    "model.compile(loss='binary_crossentropy',optimizer='adam',metrics=['accuracy'])\n",
    "\n",
    "batch_size = 64\n",
    "num_epochs = 20\n",
    "X_valid, y_valid = X_train[:batch_size], y_train[:batch_size]\n",
    "X_train2, y_train2 = X_train[batch_size:], y_train[batch_size:]\n",
    "csv_logger = CSVLogger(\"lstm.csv\", append=False)\n",
    "model.fit(X_train2, y_train2, validation_data=(X_valid, y_valid), \n",
    "          batch_size=batch_size, epochs=num_epochs,\n",
    "         callbacks=[csv_logger])\n"
   ]
  },
  {
   "cell_type": "code",
   "execution_count": 28,
   "id": "local-remains",
   "metadata": {},
   "outputs": [
    {
     "name": "stdout",
     "output_type": "stream",
     "text": [
      "Test accuracy: 0.9878787994384766\n"
     ]
    }
   ],
   "source": [
    "scores = model.evaluate(X_test, y_test, verbose=0)\n",
    "print('Test accuracy:', scores[1])"
   ]
  },
  {
   "cell_type": "code",
   "execution_count": 34,
   "id": "underlying-county",
   "metadata": {},
   "outputs": [
    {
     "data": {
      "text/plain": [
       "<AxesSubplot:xlabel='epoch'>"
      ]
     },
     "execution_count": 34,
     "metadata": {},
     "output_type": "execute_result"
    },
    {
     "data": {
      "image/png": "[encoded data removed]",
      "text/plain": [
       "<Figure size 432x288 with 1 Axes>"
      ]
     },
     "metadata": {
      "needs_background": "light"
     },
     "output_type": "display_data"
    }
   ],
   "source": [
    "lstm_scores_df = pd.read_csv(\"lstm.csv\")\n",
    "lstm_scores_df.set_index('epoch', inplace=True)\n",
    "lstm_scores_df[['loss','val_loss']].plot()"
   ]
  }
 ],
 "metadata": {
  "kernelspec": {
   "display_name": "Python 3",
   "language": "python",
   "name": "python3"
  },
  "language_info": {
   "codemirror_mode": {
    "name": "ipython",
    "version": 3
   },
   "file_extension": ".py",
   "mimetype": "text/x-python",
   "name": "python",
   "nbconvert_exporter": "python",
   "pygments_lexer": "ipython3",
   "version": "3.8.5"
  }
 },
 "nbformat": 4,
 "nbformat_minor": 5
}
