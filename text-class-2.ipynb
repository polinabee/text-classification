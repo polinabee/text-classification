{
 "cells": [
  {
   "cell_type": "code",
   "execution_count": 52,
   "id": "conceptual-sharp",
   "metadata": {},
   "outputs": [
    {
     "name": "stderr",
     "output_type": "stream",
     "text": [
      "[nltk_data] Downloading package stopwords to\n",
      "[nltk_data]     /Users/polinab/nltk_data...\n",
      "[nltk_data]   Package stopwords is already up-to-date!\n"
     ]
    }
   ],
   "source": [
    "import pandas as pd\n",
    "import numpy as np\n",
    "import string\n",
    "import nltk\n",
    "from nltk.corpus import stopwords\n",
    "nltk.download('stopwords')\n",
    "from tensorflow.keras.models import Sequential\n",
    "from tensorflow.keras.layers import Dense, Dropout\n",
    "from tensorflow.keras.layers import Embedding\n",
    "from tensorflow.keras.layers import LSTM\n",
    "from tensorflow.keras.preprocessing import sequence\n",
    "from sklearn.model_selection import train_test_split\n",
    "import matplotlib.pyplot as plt\n",
    "import seaborn as sns\n",
    "from keras.callbacks import CSVLogger\n",
    "from keras.layers.convolutional import Conv1D\n",
    "from keras.layers import Flatten\n",
    "from keras.layers.convolutional import MaxPooling1D\n",
    "from keras.preprocessing.text import Tokenizer\n",
    "from keras_preprocessing.sequence import pad_sequences\n",
    "\n",
    "\n",
    "\n"
   ]
  },
  {
   "cell_type": "markdown",
   "id": "conceptual-sucking",
   "metadata": {},
   "source": [
    "### Import and explore data"
   ]
  },
  {
   "cell_type": "code",
   "execution_count": 2,
   "id": "chronic-conjunction",
   "metadata": {},
   "outputs": [
    {
     "data": {
      "text/html": [
       "<div>\n",
       "<style scoped>\n",
       "    .dataframe tbody tr th:only-of-type {\n",
       "        vertical-align: middle;\n",
       "    }\n",
       "\n",
       "    .dataframe tbody tr th {\n",
       "        vertical-align: top;\n",
       "    }\n",
       "\n",
       "    .dataframe thead th {\n",
       "        text-align: right;\n",
       "    }\n",
       "</style>\n",
       "<table border=\"1\" class=\"dataframe\">\n",
       "  <thead>\n",
       "    <tr style=\"text-align: right;\">\n",
       "      <th></th>\n",
       "      <th>text</th>\n",
       "      <th>label</th>\n",
       "    </tr>\n",
       "  </thead>\n",
       "  <tbody>\n",
       "    <tr>\n",
       "      <th>0</th>\n",
       "      <td>Wow... Loved this place.</td>\n",
       "      <td>1</td>\n",
       "    </tr>\n",
       "    <tr>\n",
       "      <th>1</th>\n",
       "      <td>Crust is not good.</td>\n",
       "      <td>0</td>\n",
       "    </tr>\n",
       "    <tr>\n",
       "      <th>2</th>\n",
       "      <td>Not tasty and the texture was just nasty.</td>\n",
       "      <td>0</td>\n",
       "    </tr>\n",
       "    <tr>\n",
       "      <th>3</th>\n",
       "      <td>Stopped by during the late May bank holiday of...</td>\n",
       "      <td>1</td>\n",
       "    </tr>\n",
       "    <tr>\n",
       "      <th>4</th>\n",
       "      <td>The selection on the menu was great and so wer...</td>\n",
       "      <td>1</td>\n",
       "    </tr>\n",
       "  </tbody>\n",
       "</table>\n",
       "</div>"
      ],
      "text/plain": [
       "                                                text  label\n",
       "0                           Wow... Loved this place.      1\n",
       "1                                 Crust is not good.      0\n",
       "2          Not tasty and the texture was just nasty.      0\n",
       "3  Stopped by during the late May bank holiday of...      1\n",
       "4  The selection on the menu was great and so wer...      1"
      ]
     },
     "execution_count": 2,
     "metadata": {},
     "output_type": "execute_result"
    }
   ],
   "source": [
    "yelp_labelled = pd.read_csv('yelp_labelled.txt', sep='\\t', header=None)\n",
    "yelp_labelled.columns = ['text', 'label']\n",
    "yelp_labelled.head(5)"
   ]
  },
  {
   "cell_type": "code",
   "execution_count": 3,
   "id": "classified-rough",
   "metadata": {},
   "outputs": [
    {
     "data": {
      "text/plain": [
       "<AxesSubplot:xlabel='label', ylabel='Count'>"
      ]
     },
     "execution_count": 3,
     "metadata": {},
     "output_type": "execute_result"
    },
    {
     "data": {
      "image/png": "[encoded data removed]",
      "text/plain": [
       "<Figure size 432x288 with 1 Axes>"
      ]
     },
     "metadata": {
      "needs_background": "light"
     },
     "output_type": "display_data"
    }
   ],
   "source": [
    "sns.histplot(data=yelp_labelled, x=\"label\",bins=2,binwidth=0.4)\n"
   ]
  },
  {
   "cell_type": "markdown",
   "id": "pleased-retail",
   "metadata": {},
   "source": [
    "- 0 and 1 labels are equally distributed, so we do not need to resample the data\n",
    "- 0 is a bad review, 1 is a good review\n",
    "- small set of data, so we can use all of it"
   ]
  },
  {
   "cell_type": "markdown",
   "id": "seasonal-yukon",
   "metadata": {},
   "source": [
    "### Vectorize the word data\n",
    "- a neural network model cannot interpret words, they need to be encoded into numbers\n",
    "- external libraries exist that do this, like Word2Vec\n",
    "- After playing around with the libraries I decided to make my own encoding to fully understand how the basics work\n",
    "- getting rid of stop words made the model perform worse. Understandable since sequentially many of the stop words actually add information to the phrases! "
   ]
  },
  {
   "cell_type": "code",
   "execution_count": 4,
   "id": "killing-globe",
   "metadata": {},
   "outputs": [],
   "source": [
    "# separate into positive and negative posts\n",
    "positive_posts = pd.Series.to_numpy(yelp_labelled[yelp_labelled.label == 1]['text'])\n",
    "negative_posts = pd.Series.to_numpy(yelp_labelled[yelp_labelled.label == 0]['text'])\n",
    "\n",
    "# keep an object with both sets for later use\n",
    "posts = positive_posts + negative_posts"
   ]
  },
  {
   "cell_type": "code",
   "execution_count": 34,
   "id": "outer-stuff",
   "metadata": {},
   "outputs": [],
   "source": [
    "def unique_words(lines):\n",
    "    '''\n",
    "    returns dictionary of unique words in input\n",
    "    assigns an integer key to each word\n",
    "    does not include punctuation or stop words \n",
    "    stop words can be removed or included depending on the model\n",
    "    '''\n",
    "    unique_words = set()\n",
    "    stop_words = set(stopwords.words('english'))\n",
    "\n",
    "    for line in lines:\n",
    "        for word in line:\n",
    "#             if word not in stop_words:\n",
    "#                 unique_words.add(word)\n",
    "            unique_words.add(word)\n",
    "    word_vals = set(i for i in range(len(unique_words)))\n",
    "    word_keys = dict(zip(unique_words, word_vals))\n",
    "    return word_keys\n",
    "\n",
    "def word_to_vec(posts):\n",
    "    '''\n",
    "    encodes word input into integer arrays \n",
    "    stop words can be removed or included depending on the model\n",
    "    '''\n",
    "    stop_words = set(stopwords.words('english'))\n",
    "    posts = [line.lower().translate(str.maketrans('', '', string.punctuation)).split(' ') for line in posts]\n",
    "    word_dict = unique_words(posts)\n",
    "    word_key_map = [[word_dict[word] for word in post] for post in posts]\n",
    "#     word_key_map = [[word_dict[word] for word in post if word not in stop_words] for post in posts]\n",
    "    return word_key_map"
   ]
  },
  {
   "cell_type": "code",
   "execution_count": 35,
   "id": "welsh-turtle",
   "metadata": {},
   "outputs": [
    {
     "name": "stdout",
     "output_type": "stream",
     "text": [
      "\"Crust is not good.\" becomes [864, 1301, 166, 1044]\n"
     ]
    }
   ],
   "source": [
    "neg_encoded = word_to_vec(negative_posts)\n",
    "pos_encoded = word_to_vec(positive_posts)\n",
    "word_vecs = np.concatenate((neg_encoded, pos_encoded))\n",
    "print(f'\"{negative_posts[0]}\" becomes {word_vecs[0]}')\n"
   ]
  },
  {
   "cell_type": "code",
   "execution_count": 44,
   "id": "official-packaging",
   "metadata": {},
   "outputs": [],
   "source": [
    "# Padding the data samples to a maximum review length in words\n",
    "longest_post = max([len(post) for post in word_to_vec(posts)])\n",
    "padded_word_vecs = sequence.pad_sequences(word_vecs, maxlen=longest_post)\n"
   ]
  },
  {
   "cell_type": "code",
   "execution_count": 8,
   "id": "swiss-import",
   "metadata": {},
   "outputs": [
    {
     "name": "stdout",
     "output_type": "stream",
     "text": [
      "X_train shape: (670, 46) (670,)\n",
      "X_test shape: (330, 46) (330,)\n"
     ]
    }
   ],
   "source": [
    "# re-create labels, concatenate with data, and set up test/train split\n",
    "labels = np.concatenate((np.zeros(len(neg_encoded)), np.ones(len(pos_encoded))))\n",
    "X_train, X_test, y_train, y_test = train_test_split(padded_word_vecs,labels,test_size=0.33)\n",
    "\n",
    "print('X_train shape:', X_train.shape, y_train.shape)\n",
    "print('X_test shape:', X_test.shape, y_test.shape)"
   ]
  },
  {
   "cell_type": "markdown",
   "id": "occasional-taste",
   "metadata": {},
   "source": [
    "### Word-wise LSTM Model\n",
    "LSTM is an artificial RNN architecture.\n",
    "reference: https://towardsdatascience.com/a-beginners-guide-on-sentiment-analysis-with-rnn-9e100627c02e"
   ]
  },
  {
   "cell_type": "code",
   "execution_count": 24,
   "id": "international-tuesday",
   "metadata": {},
   "outputs": [
    {
     "name": "stdout",
     "output_type": "stream",
     "text": [
      "Model: \"sequential_4\"\n",
      "_________________________________________________________________\n",
      "Layer (type)                 Output Shape              Param #   \n",
      "=================================================================\n",
      "embedding_4 (Embedding)      (None, 46, 32)            77472     \n",
      "_________________________________________________________________\n",
      "lstm_3 (LSTM)                (None, 32)                8320      \n",
      "_________________________________________________________________\n",
      "dropout_3 (Dropout)          (None, 32)                0         \n",
      "_________________________________________________________________\n",
      "dense_5 (Dense)              (None, 1)                 33        \n",
      "=================================================================\n",
      "Total params: 85,825\n",
      "Trainable params: 85,825\n",
      "Non-trainable params: 0\n",
      "_________________________________________________________________\n",
      "None\n"
     ]
    }
   ],
   "source": [
    "vocab_size = max([max(arr) for arr in word_to_vec(posts)])\n",
    "embedding_size = 32\n",
    "lstm_model = Sequential()\n",
    "lstm_model.add(Embedding(vocab_size, embedding_size, input_length=longest_post))\n",
    "lstm_model.add(LSTM(embedding_size))\n",
    "lstm_model.add(Dropout(0.5))\n",
    "lstm_model.add(Dense(1, activation='sigmoid'))\n",
    "print(lstm_model.summary())"
   ]
  },
  {
   "cell_type": "code",
   "execution_count": 25,
   "id": "hundred-technique",
   "metadata": {},
   "outputs": [
    {
     "name": "stdout",
     "output_type": "stream",
     "text": [
      "Epoch 1/20\n",
      "21/21 [==============================] - 3s 48ms/step - loss: 0.6913 - accuracy: 0.5471 - val_loss: 0.6816 - val_accuracy: 0.7727\n",
      "Epoch 2/20\n",
      "21/21 [==============================] - 0s 18ms/step - loss: 0.6640 - accuracy: 0.8143 - val_loss: 0.5793 - val_accuracy: 0.7091\n",
      "Epoch 3/20\n",
      "21/21 [==============================] - 0s 19ms/step - loss: 0.5036 - accuracy: 0.8386 - val_loss: 0.4079 - val_accuracy: 0.7727\n",
      "Epoch 4/20\n",
      "21/21 [==============================] - 0s 18ms/step - loss: 0.3367 - accuracy: 0.9198 - val_loss: 0.2474 - val_accuracy: 0.9758\n",
      "Epoch 5/20\n",
      "21/21 [==============================] - 0s 18ms/step - loss: 0.1874 - accuracy: 0.9912 - val_loss: 0.1398 - val_accuracy: 0.9788\n",
      "Epoch 6/20\n",
      "21/21 [==============================] - 0s 18ms/step - loss: 0.1021 - accuracy: 0.9952 - val_loss: 0.1073 - val_accuracy: 0.9788\n",
      "Epoch 7/20\n",
      "21/21 [==============================] - 0s 18ms/step - loss: 0.0702 - accuracy: 0.9968 - val_loss: 0.0884 - val_accuracy: 0.9697\n",
      "Epoch 8/20\n",
      "21/21 [==============================] - 0s 17ms/step - loss: 0.0560 - accuracy: 0.9909 - val_loss: 0.0734 - val_accuracy: 0.9818\n",
      "Epoch 9/20\n",
      "21/21 [==============================] - 0s 17ms/step - loss: 0.0395 - accuracy: 0.9915 - val_loss: 0.0684 - val_accuracy: 0.9818\n",
      "Epoch 10/20\n",
      "21/21 [==============================] - 0s 18ms/step - loss: 0.0258 - accuracy: 0.9999 - val_loss: 0.0634 - val_accuracy: 0.9788\n",
      "Epoch 11/20\n",
      "21/21 [==============================] - 0s 18ms/step - loss: 0.0223 - accuracy: 0.9980 - val_loss: 0.0633 - val_accuracy: 0.9818\n",
      "Epoch 12/20\n",
      "21/21 [==============================] - 0s 18ms/step - loss: 0.0147 - accuracy: 0.9979 - val_loss: 0.0655 - val_accuracy: 0.9758\n",
      "Epoch 13/20\n",
      "21/21 [==============================] - 0s 18ms/step - loss: 0.0151 - accuracy: 1.0000 - val_loss: 0.0651 - val_accuracy: 0.9788\n",
      "Epoch 14/20\n",
      "21/21 [==============================] - 0s 20ms/step - loss: 0.0117 - accuracy: 0.9993 - val_loss: 0.0957 - val_accuracy: 0.9545\n",
      "Epoch 15/20\n",
      "21/21 [==============================] - 0s 19ms/step - loss: 0.0108 - accuracy: 1.0000 - val_loss: 0.0686 - val_accuracy: 0.9727\n",
      "Epoch 16/20\n",
      "21/21 [==============================] - 0s 19ms/step - loss: 0.0079 - accuracy: 1.0000 - val_loss: 0.0991 - val_accuracy: 0.9576\n",
      "Epoch 17/20\n",
      "21/21 [==============================] - 0s 19ms/step - loss: 0.0075 - accuracy: 1.0000 - val_loss: 0.0626 - val_accuracy: 0.9758\n",
      "Epoch 18/20\n",
      "21/21 [==============================] - 0s 19ms/step - loss: 0.0059 - accuracy: 1.0000 - val_loss: 0.0599 - val_accuracy: 0.9818\n",
      "Epoch 19/20\n",
      "21/21 [==============================] - 0s 19ms/step - loss: 0.0087 - accuracy: 0.9994 - val_loss: 0.0664 - val_accuracy: 0.9727\n",
      "Epoch 20/20\n",
      "21/21 [==============================] - 0s 18ms/step - loss: 0.0057 - accuracy: 1.0000 - val_loss: 0.1079 - val_accuracy: 0.9636\n"
     ]
    },
    {
     "data": {
      "text/plain": [
       "<tensorflow.python.keras.callbacks.History at 0x154d85fd0>"
      ]
     },
     "execution_count": 25,
     "metadata": {},
     "output_type": "execute_result"
    }
   ],
   "source": [
    "lstm_model.compile(loss='binary_crossentropy',optimizer='adam',metrics=['accuracy'])\n",
    "\n",
    "batch_size = 64\n",
    "num_epochs = 20\n",
    "csv_logger = CSVLogger(\"lstm.csv\", append=False)\n",
    "lstm_model.fit(X_train, y_train, \n",
    "               epochs=num_epochs, \n",
    "               verbose=1,\n",
    "               callbacks=[csv_logger],\n",
    "               validation_data=(X_test,y_test)\n",
    "              )\n"
   ]
  },
  {
   "cell_type": "code",
   "execution_count": 26,
   "id": "established-square",
   "metadata": {},
   "outputs": [
    {
     "name": "stdout",
     "output_type": "stream",
     "text": [
      "Test accuracy: 0.9636363387107849\n"
     ]
    }
   ],
   "source": [
    "scores = lstm_model.evaluate(X_test, y_test, verbose=0)\n",
    "print('Test accuracy:', scores[1])"
   ]
  },
  {
   "cell_type": "code",
   "execution_count": 27,
   "id": "undefined-couple",
   "metadata": {},
   "outputs": [
    {
     "data": {
      "text/plain": [
       "<AxesSubplot:xlabel='epoch'>"
      ]
     },
     "execution_count": 27,
     "metadata": {},
     "output_type": "execute_result"
    },
    {
     "data": {
      "image/png": "[encoded data removed]",
      "text/plain": [
       "<Figure size 432x288 with 1 Axes>"
      ]
     },
     "metadata": {
      "needs_background": "light"
     },
     "output_type": "display_data"
    }
   ],
   "source": [
    "lstm_scores_df = pd.read_csv(\"lstm.csv\")\n",
    "lstm_scores_df.set_index('epoch', inplace=True)\n",
    "# lstm_scores_df[['loss','val_loss']].plot()\n",
    "\n",
    "lstm_scores_df[['loss','val_loss']].plot()\n"
   ]
  },
  {
   "cell_type": "markdown",
   "id": "incorrect-tribute",
   "metadata": {},
   "source": [
    "### Word-wise CNN Model\n",
    "https://machinelearningmastery.com/develop-word-embedding-model-predicting-movie-review-sentiment/"
   ]
  },
  {
   "cell_type": "code",
   "execution_count": 13,
   "id": "floating-canal",
   "metadata": {},
   "outputs": [
    {
     "name": "stdout",
     "output_type": "stream",
     "text": [
      "Model: \"sequential_1\"\n",
      "_________________________________________________________________\n",
      "Layer (type)                 Output Shape              Param #   \n",
      "=================================================================\n",
      "embedding_1 (Embedding)      (None, 46, 50)            121050    \n",
      "_________________________________________________________________\n",
      "conv1d (Conv1D)              (None, 39, 50)            20050     \n",
      "_________________________________________________________________\n",
      "max_pooling1d (MaxPooling1D) (None, 19, 50)            0         \n",
      "_________________________________________________________________\n",
      "flatten (Flatten)            (None, 950)               0         \n",
      "_________________________________________________________________\n",
      "dense_1 (Dense)              (None, 10)                9510      \n",
      "_________________________________________________________________\n",
      "dense_2 (Dense)              (None, 1)                 11        \n",
      "=================================================================\n",
      "Total params: 150,621\n",
      "Trainable params: 150,621\n",
      "Non-trainable params: 0\n",
      "_________________________________________________________________\n",
      "None\n"
     ]
    }
   ],
   "source": [
    "embedding_size = 50\n",
    "cnn_model = Sequential()\n",
    "cnn_model.add(Embedding(vocab_size, embedding_size, input_length=longest_post))\n",
    "cnn_model.add(Conv1D(embedding_size,kernel_size=8, activation='relu'))\n",
    "cnn_model.add(MaxPooling1D(pool_size=2))\n",
    "cnn_model.add(Flatten())\n",
    "cnn_model.add(Dense(10, activation='relu'))\n",
    "cnn_model.add(Dense(1, activation='sigmoid'))\n",
    "cnn_model.compile(loss='binary_crossentropy',optimizer='adam',metrics=['accuracy'])\n",
    "print(cnn_model.summary())"
   ]
  },
  {
   "cell_type": "code",
   "execution_count": 14,
   "id": "regular-vampire",
   "metadata": {},
   "outputs": [
    {
     "name": "stdout",
     "output_type": "stream",
     "text": [
      "Epoch 1/20\n",
      "21/21 [==============================] - 1s 5ms/step - loss: 0.6921 - accuracy: 0.5079\n",
      "Epoch 2/20\n",
      "21/21 [==============================] - 0s 4ms/step - loss: 0.6283 - accuracy: 0.7658\n",
      "Epoch 3/20\n",
      "21/21 [==============================] - 0s 5ms/step - loss: 0.3063 - accuracy: 0.9520\n",
      "Epoch 4/20\n",
      "21/21 [==============================] - 0s 4ms/step - loss: 0.1110 - accuracy: 0.9634\n",
      "Epoch 5/20\n",
      "21/21 [==============================] - 0s 5ms/step - loss: 0.0466 - accuracy: 0.9857\n",
      "Epoch 6/20\n",
      "21/21 [==============================] - 0s 5ms/step - loss: 0.0292 - accuracy: 0.9920\n",
      "Epoch 7/20\n",
      "21/21 [==============================] - 0s 4ms/step - loss: 0.0200 - accuracy: 0.9976\n",
      "Epoch 8/20\n",
      "21/21 [==============================] - 0s 5ms/step - loss: 0.0166 - accuracy: 0.9987\n",
      "Epoch 9/20\n",
      "21/21 [==============================] - 0s 4ms/step - loss: 0.0129 - accuracy: 0.9993\n",
      "Epoch 10/20\n",
      "21/21 [==============================] - 0s 6ms/step - loss: 0.0071 - accuracy: 0.9998\n",
      "Epoch 11/20\n",
      "21/21 [==============================] - 0s 6ms/step - loss: 0.0073 - accuracy: 1.0000\n",
      "Epoch 12/20\n",
      "21/21 [==============================] - 0s 6ms/step - loss: 0.0072 - accuracy: 0.9980\n",
      "Epoch 13/20\n",
      "21/21 [==============================] - 0s 6ms/step - loss: 0.0049 - accuracy: 1.0000\n",
      "Epoch 14/20\n",
      "21/21 [==============================] - 0s 7ms/step - loss: 0.0044 - accuracy: 0.9986\n",
      "Epoch 15/20\n",
      "21/21 [==============================] - 0s 5ms/step - loss: 0.0033 - accuracy: 0.9993\n",
      "Epoch 16/20\n",
      "21/21 [==============================] - 0s 5ms/step - loss: 0.0026 - accuracy: 1.0000\n",
      "Epoch 17/20\n",
      "21/21 [==============================] - 0s 6ms/step - loss: 0.0022 - accuracy: 0.9989\n",
      "Epoch 18/20\n",
      "21/21 [==============================] - 0s 6ms/step - loss: 0.0013 - accuracy: 1.0000\n",
      "Epoch 19/20\n",
      "21/21 [==============================] - 0s 6ms/step - loss: 0.0021 - accuracy: 1.0000\n",
      "Epoch 20/20\n",
      "21/21 [==============================] - 0s 7ms/step - loss: 0.0015 - accuracy: 1.0000\n"
     ]
    },
    {
     "data": {
      "text/plain": [
       "<tensorflow.python.keras.callbacks.History at 0x154197490>"
      ]
     },
     "execution_count": 14,
     "metadata": {},
     "output_type": "execute_result"
    }
   ],
   "source": [
    "num_epochs = 20\n",
    "\n",
    "csv_logger = CSVLogger(\"cnn.csv\", append=False)\n",
    "\n",
    "cnn_model.fit(X_train, y_train, epochs=num_epochs, verbose=1)"
   ]
  },
  {
   "cell_type": "code",
   "execution_count": 15,
   "id": "surgical-escape",
   "metadata": {},
   "outputs": [
    {
     "name": "stdout",
     "output_type": "stream",
     "text": [
      "Test accuracy: 0.9666666388511658\n"
     ]
    }
   ],
   "source": [
    "scores = cnn_model.evaluate(X_test, y_test, verbose=0)\n",
    "print('Test accuracy:', scores[1])"
   ]
  },
  {
   "cell_type": "code",
   "execution_count": 16,
   "id": "collect-undergraduate",
   "metadata": {},
   "outputs": [
    {
     "data": {
      "text/plain": [
       "<AxesSubplot:xlabel='epoch'>"
      ]
     },
     "execution_count": 16,
     "metadata": {},
     "output_type": "execute_result"
    },
    {
     "data": {
      "image/png": "[encoded data removed]",
      "text/plain": [
       "<Figure size 432x288 with 1 Axes>"
      ]
     },
     "metadata": {
      "needs_background": "light"
     },
     "output_type": "display_data"
    }
   ],
   "source": [
    "cnn_scores_df = pd.read_csv(\"cnn.csv\")\n",
    "cnn_scores_df.set_index('epoch', inplace=True)\n",
    "cnn_scores_df[['loss','val_loss']].plot()"
   ]
  },
  {
   "cell_type": "code",
   "execution_count": 17,
   "id": "aging-joseph",
   "metadata": {},
   "outputs": [],
   "source": [
    "#todo: play around with different values for the two models above. \n",
    "# Add different layers\n",
    "# show convergence of validation loss after number of epochs\n",
    "# show difference using dictionaries from full set vs just train set"
   ]
  },
  {
   "cell_type": "markdown",
   "id": "unknown-glucose",
   "metadata": {},
   "source": [
    "### Vectorize the character data"
   ]
  },
  {
   "cell_type": "code",
   "execution_count": 55,
   "id": "surprised-director",
   "metadata": {},
   "outputs": [],
   "source": [
    "def char_tokenizer(lines):\n",
    "    tk = Tokenizer(num_words=None, char_level=True, oov_token='UNK')\n",
    "    lines_low = [[l.lower() for l in lines]]\n",
    "    tk.fit_on_texts(lines_low)\n",
    "\n",
    "    alphabet = \"abcdefghijklmnopqrstuvwxyz0123456789,;.!?:'\\\"/\\\\|_@#$%^&*~`+-=<>()[]{}\"\n",
    "    char_dict = {}\n",
    "    for i, char in enumerate(alphabet):\n",
    "        char_dict[char] = i + 1\n",
    "\n",
    "    # Use char_dict to replace the tk.word_index\n",
    "    tk.word_index = char_dict.copy()\n",
    "    # Add 'UNK' to the vocabulary\n",
    "    tk.word_index[tk.oov_token] = max(char_dict.values()) + 1\n",
    "    return tk"
   ]
  },
  {
   "cell_type": "code",
   "execution_count": 49,
   "id": "current-dance",
   "metadata": {},
   "outputs": [],
   "source": [
    "def embed_weights(tk):\n",
    "    vocab_size = len(tk.word_index)\n",
    "    embedding_weights = []\n",
    "    embedding_weights.append(np.zeros(vocab_size))\n",
    "\n",
    "    for char,i in tk.word_index.items():\n",
    "        onehot = np.zeros(vocab_size)\n",
    "        onehot[i-1] = 1\n",
    "        embedding_weights.append(onehot)\n",
    "\n",
    "    return np.array(embedding_weights)"
   ]
  },
  {
   "cell_type": "code",
   "execution_count": 63,
   "id": "passive-exclusive",
   "metadata": {},
   "outputs": [
    {
     "name": "stdout",
     "output_type": "stream",
     "text": [
      "Wow... Loved this place. becomes [23, 15, 23, 39, 39, 39, 69, 12, 15, 22, 5, 4, 69, 20, 8, 9, 19, 69, 16, 12, 1, 3, 5, 39]\n"
     ]
    }
   ],
   "source": [
    "# transform reviews into character encodings:\n",
    "\n",
    "posts = positive_posts + negative_posts\n",
    "tk = char_tokenizer(posts)\n",
    "vocab_size = len(tk.word_index)\n",
    "pos_seqs = tk.texts_to_sequences(positive_posts)\n",
    "neg_seqs = tk.texts_to_sequences(negative_posts)\n",
    "print(f'{positive_posts[0]} becomes {pos_seqs[0]}')"
   ]
  },
  {
   "cell_type": "code",
   "execution_count": 60,
   "id": "fleet-invention",
   "metadata": {},
   "outputs": [
    {
     "name": "stdout",
     "output_type": "stream",
     "text": [
      "longest post is 149 characters long\n"
     ]
    },
    {
     "name": "stderr",
     "output_type": "stream",
     "text": [
      "/Users/polinab/.virtualenvs/deep/lib/python3.8/site-packages/numpy/core/_asarray.py:136: VisibleDeprecationWarning: Creating an ndarray from ragged nested sequences (which is a list-or-tuple of lists-or-tuples-or ndarrays with different lengths or shapes) is deprecated. If you meant to do this, you must specify 'dtype=object' when creating the ndarray\n",
      "  return array(a, dtype, copy=False, order=order, subok=True)\n"
     ]
    }
   ],
   "source": [
    "longest_post = max([len(x) for x in np.append(neg_seqs, pos_seqs, axis=0)])\n",
    "print(f'longest post is {longest_post} characters long')\n"
   ]
  },
  {
   "cell_type": "code",
   "execution_count": null,
   "outputs": [],
   "source": [
    "# pad data:\n",
    "\n",
    "pos_seq_padded = pad_sequences(pos_seqs, maxlen=longest_post, padding='post')\n",
    "neg_seq_padded = pad_sequences(neg_seqs, maxlen=longest_post, padding='post')\n",
    "\n",
    "pos_data = np.array(pos_seq_padded, dtype='float32')\n",
    "neg_data = np.array(neg_seq_padded, dtype='float32')\n"
   ],
   "metadata": {
    "collapsed": false,
    "pycharm": {
     "name": "#%%\n"
    }
   }
  },
  {
   "cell_type": "code",
   "execution_count": null,
   "outputs": [],
   "source": [
    "padded_char_vecs = np.append(neg_data, pos_seqs, axis = 0)\n",
    "\n",
    "labels = np.concatenate((np.zeros(len(neg_data)), np.ones(len(pos_data))))\n",
    "X_train, X_test, y_train, y_test = train_test_split(padded_char_vecs, labels, test_size=0.33)\n",
    "\n",
    "print('X_train shape:', X_train.shape, y_train.shape)\n",
    "print('X_test shape:', X_test.shape, y_test.shape)"
   ],
   "metadata": {
    "collapsed": false,
    "pycharm": {
     "name": "#%%\n"
    }
   }
  },
  {
   "cell_type": "code",
   "execution_count": 62,
   "id": "electronic-disease",
   "metadata": {},
   "outputs": [
    {
     "ename": "NameError",
     "evalue": "name 'pad_sequences' is not defined",
     "output_type": "error",
     "traceback": [
      "\u001B[0;31m---------------------------------------------------------------------------\u001B[0m",
      "\u001B[0;31mNameError\u001B[0m                                 Traceback (most recent call last)",
      "\u001B[0;32m<ipython-input-62-7909c1e5a76f>\u001B[0m in \u001B[0;36m<module>\u001B[0;34m\u001B[0m\n\u001B[1;32m      1\u001B[0m \u001B[0;31m# pad data:\u001B[0m\u001B[0;34m\u001B[0m\u001B[0;34m\u001B[0m\u001B[0;34m\u001B[0m\u001B[0m\n\u001B[1;32m      2\u001B[0m \u001B[0;34m\u001B[0m\u001B[0m\n\u001B[0;32m----> 3\u001B[0;31m \u001B[0mpos_seq_padded\u001B[0m \u001B[0;34m=\u001B[0m \u001B[0mpad_sequences\u001B[0m\u001B[0;34m(\u001B[0m\u001B[0mpos_seqs\u001B[0m\u001B[0;34m,\u001B[0m \u001B[0mmaxlen\u001B[0m\u001B[0;34m=\u001B[0m\u001B[0mlongest_post\u001B[0m\u001B[0;34m,\u001B[0m \u001B[0mpadding\u001B[0m\u001B[0;34m=\u001B[0m\u001B[0;34m'post'\u001B[0m\u001B[0;34m)\u001B[0m\u001B[0;34m\u001B[0m\u001B[0;34m\u001B[0m\u001B[0m\n\u001B[0m\u001B[1;32m      4\u001B[0m \u001B[0mneg_seq_padded\u001B[0m \u001B[0;34m=\u001B[0m \u001B[0mpad_sequences\u001B[0m\u001B[0;34m(\u001B[0m\u001B[0mneg_seqs\u001B[0m\u001B[0;34m,\u001B[0m \u001B[0mmaxlen\u001B[0m\u001B[0;34m=\u001B[0m\u001B[0mlongest_post\u001B[0m\u001B[0;34m,\u001B[0m \u001B[0mpadding\u001B[0m\u001B[0;34m=\u001B[0m\u001B[0;34m'post'\u001B[0m\u001B[0;34m)\u001B[0m\u001B[0;34m\u001B[0m\u001B[0;34m\u001B[0m\u001B[0m\n\u001B[1;32m      5\u001B[0m \u001B[0;34m\u001B[0m\u001B[0m\n",
      "\u001B[0;31mNameError\u001B[0m: name 'pad_sequences' is not defined"
     ]
    }
   ],
   "source": [
    "padded_char_vecs = np.append(neg_data, pos_seqs, axis = 0)\n",
    "\n",
    "labels = np.concatenate((np.zeros(len(neg_data)), np.ones(len(pos_data))))\n",
    "X_train, X_test, y_train, y_test = train_test_split(padded_char_vecs, labels, test_size=0.33)\n",
    "\n",
    "print('X_train shape:', X_train.shape, y_train.shape)\n",
    "print('X_test shape:', X_test.shape, y_test.shape)"
   ]
  },
  {
   "cell_type": "code",
   "execution_count": null,
   "id": "balanced-induction",
   "metadata": {},
   "outputs": [],
   "source": [
    "padded_char_vecs = np.append(neg_data, pos_seqs, axis = 0)\n",
    "\n",
    "labels = np.concatenate((np.zeros(len(neg_data)), np.ones(len(pos_data))))\n",
    "X_train, X_test, y_train, y_test = train_test_split(padded_char_vecs, labels, test_size=0.33)\n",
    "\n",
    "print('X_train shape:', X_train.shape, y_train.shape)\n",
    "print('X_test shape:', X_test.shape, y_test.shape)"
   ]
  }
 ],
 "metadata": {
  "kernelspec": {
   "display_name": "Python 3",
   "language": "python",
   "name": "python3"
  },
  "language_info": {
   "codemirror_mode": {
    "name": "ipython",
    "version": 3
   },
   "file_extension": ".py",
   "mimetype": "text/x-python",
   "name": "python",
   "nbconvert_exporter": "python",
   "pygments_lexer": "ipython3",
   "version": "3.8.5"
  }
 },
 "nbformat": 4,
 "nbformat_minor": 5
}