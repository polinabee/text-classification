{
 "cells": [
  {
   "cell_type": "code",
   "execution_count": 1,
   "id": "parallel-investing",
   "metadata": {
    "pycharm": {
     "name": "#%%\n"
    }
   },
   "outputs": [
    {
     "name": "stderr",
     "output_type": "stream",
     "text": [
      "/Users/polinab/.virtualenvs/deep/lib/python3.8/site-packages/pandas/compat/__init__.py:97: UserWarning: Could not import the lzma module. Your installed Python is incomplete. Attempting to use lzma compression will result in a RuntimeError.\n",
      "  warnings.warn(msg)\n"
     ]
    }
   ],
   "source": [
    "#importing libraries\n",
    "import pandas as pd\n",
    "import numpy as np\n",
    "import os\n",
    "from varname import nameof\n",
    "import string\n",
    "import nltk\n",
    "from nltk.corpus import stopwords\n",
    "\n",
    "#deep learning library\n",
    "from keras.models import *\n",
    "from keras.layers import *\n",
    "from keras.callbacks import *\n",
    "from keras import optimizers\n",
    "from keras.preprocessing.text import Tokenizer\n",
    "from keras.preprocessing.sequence import pad_sequences\n",
    "from keras.preprocessing.text import Tokenizer\n",
    "from keras_preprocessing.sequence import pad_sequences\n",
    "from tensorflow.keras.preprocessing import sequence\n",
    "from sklearn.model_selection import train_test_split\n",
    "\n",
    "import matplotlib.pyplot as plt\n",
    "import seaborn as sns\n",
    "from keras.callbacks import CSVLogger\n",
    "from tensorflow.python.keras.layers import Conv1D, Conv2D, MaxPooling1D, Flatten\n",
    "\n",
    "seed = 1337"
   ]
  },
  {
   "cell_type": "markdown",
   "id": "twenty-munich",
   "metadata": {},
   "source": [
    "### Import and explore data"
   ]
  },
  {
   "cell_type": "code",
   "execution_count": 2,
   "id": "verified-remains",
   "metadata": {
    "pycharm": {
     "name": "#%%\n"
    }
   },
   "outputs": [
    {
     "data": {
      "text/html": [
       "<div>\n",
       "<style scoped>\n",
       "    .dataframe tbody tr th:only-of-type {\n",
       "        vertical-align: middle;\n",
       "    }\n",
       "\n",
       "    .dataframe tbody tr th {\n",
       "        vertical-align: top;\n",
       "    }\n",
       "\n",
       "    .dataframe thead th {\n",
       "        text-align: right;\n",
       "    }\n",
       "</style>\n",
       "<table border=\"1\" class=\"dataframe\">\n",
       "  <thead>\n",
       "    <tr style=\"text-align: right;\">\n",
       "      <th></th>\n",
       "      <th>text</th>\n",
       "      <th>label</th>\n",
       "    </tr>\n",
       "  </thead>\n",
       "  <tbody>\n",
       "    <tr>\n",
       "      <th>0</th>\n",
       "      <td>Wow... Loved this place.</td>\n",
       "      <td>1</td>\n",
       "    </tr>\n",
       "    <tr>\n",
       "      <th>1</th>\n",
       "      <td>Crust is not good.</td>\n",
       "      <td>0</td>\n",
       "    </tr>\n",
       "    <tr>\n",
       "      <th>2</th>\n",
       "      <td>Not tasty and the texture was just nasty.</td>\n",
       "      <td>0</td>\n",
       "    </tr>\n",
       "    <tr>\n",
       "      <th>3</th>\n",
       "      <td>Stopped by during the late May bank holiday of...</td>\n",
       "      <td>1</td>\n",
       "    </tr>\n",
       "    <tr>\n",
       "      <th>4</th>\n",
       "      <td>The selection on the menu was great and so wer...</td>\n",
       "      <td>1</td>\n",
       "    </tr>\n",
       "  </tbody>\n",
       "</table>\n",
       "</div>"
      ],
      "text/plain": [
       "                                                text  label\n",
       "0                           Wow... Loved this place.      1\n",
       "1                                 Crust is not good.      0\n",
       "2          Not tasty and the texture was just nasty.      0\n",
       "3  Stopped by during the late May bank holiday of...      1\n",
       "4  The selection on the menu was great and so wer...      1"
      ]
     },
     "execution_count": 2,
     "metadata": {},
     "output_type": "execute_result"
    }
   ],
   "source": [
    "yelp_labelled = pd.read_csv('yelp_labelled.txt', sep='\\t', header=None)\n",
    "yelp_labelled.columns = ['text', 'label']\n",
    "yelp_labelled.head(5)"
   ]
  },
  {
   "cell_type": "code",
   "execution_count": 3,
   "id": "combined-speech",
   "metadata": {
    "pycharm": {
     "name": "#%%\n"
    }
   },
   "outputs": [
    {
     "data": {
      "text/plain": [
       "<AxesSubplot:xlabel='label', ylabel='Count'>"
      ]
     },
     "execution_count": 3,
     "metadata": {},
     "output_type": "execute_result"
    },
    {
     "data": {
      "image/png": "[encoded data removed]",
      "text/plain": [
       "<Figure size 432x288 with 1 Axes>"
      ]
     },
     "metadata": {
      "needs_background": "light"
     },
     "output_type": "display_data"
    }
   ],
   "source": [
    "sns.histplot(data=yelp_labelled, x=\"label\",bins=2,binwidth=0.4)\n"
   ]
  },
  {
   "cell_type": "markdown",
   "id": "appropriate-eight",
   "metadata": {},
   "source": [
    "- 0 and 1 labels are equally distributed, so we do not need to resample the data\n",
    "- 0 is a bad review, 1 is a good review\n",
    "- small set of data, so we can use all of it"
   ]
  },
  {
   "cell_type": "code",
   "execution_count": 4,
   "id": "recovered-produce",
   "metadata": {
    "pycharm": {
     "name": "#%%\n"
    }
   },
   "outputs": [
    {
     "data": {
      "text/html": [
       "<div>\n",
       "<style scoped>\n",
       "    .dataframe tbody tr th:only-of-type {\n",
       "        vertical-align: middle;\n",
       "    }\n",
       "\n",
       "    .dataframe tbody tr th {\n",
       "        vertical-align: top;\n",
       "    }\n",
       "\n",
       "    .dataframe thead th {\n",
       "        text-align: right;\n",
       "    }\n",
       "</style>\n",
       "<table border=\"1\" class=\"dataframe\">\n",
       "  <thead>\n",
       "    <tr style=\"text-align: right;\">\n",
       "      <th></th>\n",
       "      <th>text</th>\n",
       "      <th>label</th>\n",
       "    </tr>\n",
       "  </thead>\n",
       "  <tbody>\n",
       "    <tr>\n",
       "      <th>226</th>\n",
       "      <td>This is an unbelievable BARGAIN!</td>\n",
       "      <td>1</td>\n",
       "    </tr>\n",
       "    <tr>\n",
       "      <th>129</th>\n",
       "      <td>Definitely worth venturing off the strip for t...</td>\n",
       "      <td>1</td>\n",
       "    </tr>\n",
       "    <tr>\n",
       "      <th>24</th>\n",
       "      <td>So they performed.</td>\n",
       "      <td>1</td>\n",
       "    </tr>\n",
       "    <tr>\n",
       "      <th>847</th>\n",
       "      <td>In fact I'm going to round up to 4 stars, just...</td>\n",
       "      <td>1</td>\n",
       "    </tr>\n",
       "    <tr>\n",
       "      <th>554</th>\n",
       "      <td>However, my recent experience at this particul...</td>\n",
       "      <td>0</td>\n",
       "    </tr>\n",
       "  </tbody>\n",
       "</table>\n",
       "</div>"
      ],
      "text/plain": [
       "                                                  text  label\n",
       "226                   This is an unbelievable BARGAIN!      1\n",
       "129  Definitely worth venturing off the strip for t...      1\n",
       "24                                  So they performed.      1\n",
       "847  In fact I'm going to round up to 4 stars, just...      1\n",
       "554  However, my recent experience at this particul...      0"
      ]
     },
     "execution_count": 4,
     "metadata": {},
     "output_type": "execute_result"
    },
    {
     "data": {
      "image/png": "[encoded data removed]",
      "text/plain": [
       "<Figure size 432x288 with 1 Axes>"
      ]
     },
     "metadata": {
      "needs_background": "light"
     },
     "output_type": "display_data"
    }
   ],
   "source": [
    "y = yelp_labelled['label']\n",
    "train_df, test_df = train_test_split(yelp_labelled, test_size=0.2)\n",
    "sns.histplot(data=yelp_labelled, x=\"label\",bins=2,binwidth=0.4)\n",
    "train_df.head()\n"
   ]
  },
  {
   "cell_type": "markdown",
   "id": "advance-creature",
   "metadata": {},
   "source": [
    "### Vectorize the word data: building my own word dictionary\n",
    "- a neural network model cannot interpret words, they need to be encoded into numbers\n",
    "- external libraries exist that do this, like Word2Vec\n",
    "- After playing around with the libraries I decided to make my own encoding to fully understand how the basics work\n",
    "- getting rid of stop words made the model perform worse. Understandable since sequentially many of the stop words actually add information to the phrases! "
   ]
  },
  {
   "cell_type": "code",
   "execution_count": 5,
   "id": "alert-instrumentation",
   "metadata": {
    "pycharm": {
     "name": "#%%\n"
    }
   },
   "outputs": [
    {
     "data": {
      "text/plain": [
       "149"
      ]
     },
     "execution_count": 5,
     "metadata": {},
     "output_type": "execute_result"
    }
   ],
   "source": [
    "# separate into positive and negative posts\n",
    "positive_posts = pd.Series.to_numpy(yelp_labelled[yelp_labelled.label == 1]['text'])\n",
    "negative_posts = pd.Series.to_numpy(yelp_labelled[yelp_labelled.label == 0]['text'])\n",
    "\n",
    "# keep an object with both sets for later use\n",
    "posts = np.append(negative_posts, positive_posts, axis=0)\n",
    "\n",
    "longest_post = max(len(post) for post in posts)\n",
    "longest_post\n"
   ]
  },
  {
   "cell_type": "code",
   "execution_count": 6,
   "id": "satisfactory-thomas",
   "metadata": {
    "pycharm": {
     "name": "#%%\n"
    }
   },
   "outputs": [],
   "source": [
    "def unique_words(lines):\n",
    "    '''\n",
    "    returns dictionary of unique words in input\n",
    "    assigns an integer key to each word\n",
    "    does not include punctuation or stop words \n",
    "    stop words can be removed or included depending on if it benefits the model\n",
    "    '''\n",
    "    unique_words = set()\n",
    "    stop_words = set(stopwords.words('english'))\n",
    "\n",
    "    for line in lines:\n",
    "        for word in line:\n",
    "#             if word not in stop_words:\n",
    "#                 unique_words.add(word)\n",
    "            unique_words.add(word)\n",
    "    word_vals = set(i for i in range(len(unique_words)))\n",
    "    word_keys = dict(zip(unique_words, word_vals))\n",
    "    return word_keys\n",
    "\n",
    "def word_to_vec(posts):\n",
    "    '''\n",
    "    encodes word input into integer arrays \n",
    "    stop words can be removed or included depending on the model\n",
    "    '''\n",
    "    stop_words = set(stopwords.words('english'))\n",
    "    posts = [line.lower().translate(str.maketrans('', '', string.punctuation)).split(' ') for line in posts]\n",
    "    word_dict = unique_words(posts)\n",
    "    word_key_map = [[word_dict[word] for word in post] for post in posts]\n",
    "#     word_key_map = [[word_dict[word] for word in post if word not in stop_words] for post in posts]\n",
    "    return word_key_map"
   ]
  },
  {
   "cell_type": "code",
   "execution_count": 7,
   "id": "generous-drill",
   "metadata": {
    "pycharm": {
     "name": "#%%\n"
    }
   },
   "outputs": [
    {
     "name": "stdout",
     "output_type": "stream",
     "text": [
      "\"Crust is not good.\" becomes [88, 469, 1347, 20]\n"
     ]
    },
    {
     "name": "stderr",
     "output_type": "stream",
     "text": [
      "<__array_function__ internals>:5: VisibleDeprecationWarning: Creating an ndarray from ragged nested sequences (which is a list-or-tuple of lists-or-tuples-or ndarrays with different lengths or shapes) is deprecated. If you meant to do this, you must specify 'dtype=object' when creating the ndarray\n"
     ]
    }
   ],
   "source": [
    "neg_encoded = word_to_vec(negative_posts)\n",
    "pos_encoded = word_to_vec(positive_posts)\n",
    "word_vecs = np.concatenate((neg_encoded, pos_encoded))\n",
    "print(f'\"{negative_posts[0]}\" becomes {word_vecs[0]}')\n"
   ]
  },
  {
   "cell_type": "code",
   "execution_count": 8,
   "id": "creative-police",
   "metadata": {
    "pycharm": {
     "name": "#%%\n"
    }
   },
   "outputs": [],
   "source": [
    "# Padding the data samples to a maximum review length in words\n",
    "longest_post = max([len(post) for post in word_to_vec(posts)])\n",
    "padded_word_vecs = sequence.pad_sequences(word_vecs, maxlen=longest_post)\n"
   ]
  },
  {
   "cell_type": "code",
   "execution_count": 9,
   "id": "electrical-luxembourg",
   "metadata": {
    "pycharm": {
     "name": "#%%\n"
    }
   },
   "outputs": [
    {
     "name": "stdout",
     "output_type": "stream",
     "text": [
      "X_train shape: (670, 32) (670,)\n",
      "X_test shape: (330, 32) (330,)\n"
     ]
    }
   ],
   "source": [
    "# re-create labels, concatenate with data, and set up test/train split\n",
    "labels = np.concatenate((np.zeros(len(neg_encoded)), np.ones(len(pos_encoded))))\n",
    "X_train, X_test, y_train, y_test = train_test_split(padded_word_vecs,labels,test_size=0.33)\n",
    "\n",
    "print('X_train shape:', X_train.shape, y_train.shape)\n",
    "print('X_test shape:', X_test.shape, y_test.shape)\n"
   ]
  },
  {
   "cell_type": "markdown",
   "id": "lightweight-jordan",
   "metadata": {},
   "source": [
    "#### Modularize model fitting and display functions\n",
    "- I set up the following functions to avoid code redundancy and simplify the model evaluation process\n",
    "- the functions allow for fitting, accuracy evaluation, and plotting of accuracy and loss over epochs"
   ]
  },
  {
   "cell_type": "code",
   "execution_count": 10,
   "id": "alive-incentive",
   "metadata": {},
   "outputs": [],
   "source": [
    "\n",
    "def fit_model(model, e, v, x_train, y_train, x_test, y_test):\n",
    "    '''\n",
    "    fits model over epochs and stores results in csv file\n",
    "    '''\n",
    "    csv_logger = CSVLogger(f\"{nameof(model)}.csv\", append=False)\n",
    "\n",
    "    model.fit(\n",
    "        x_train,\n",
    "        y_train, \n",
    "        epochs=e, \n",
    "                   verbose=v,\n",
    "                   callbacks=[csv_logger],\n",
    "                   validation_data=(\n",
    "                       x_test,\n",
    "                       y_test))\n",
    "\n",
    "def model_acc(model,x,y):\n",
    "    scores = model.evaluate(x,y)\n",
    "    return(scores[1])\n",
    "    \n",
    "def acc_graphs(model):\n",
    "    '''\n",
    "    displays accuracy and loss of model fit over epochs\n",
    "    '''\n",
    "    df = pd.read_csv(f\"{nameof(model)}.csv\")\n",
    "    df.set_index('epoch', inplace=True)\n",
    "    \n",
    "    fig, ax =plt.subplots(1,2, figsize=(10, 5))\n",
    "    df[['accuracy','val_accuracy']].plot(ax = ax[0])\n",
    "    df[['loss','val_loss']].plot(ax = ax[1])"
   ]
  },
  {
   "cell_type": "markdown",
   "id": "subtle-moderator",
   "metadata": {},
   "source": [
    "### Word-wise LSTM Model with custom embedding\n",
    "LSTM is an artificial RNN architecture.\n",
    "reference: https://towardsdatascience.com/a-beginners-guide-on-sentiment-analysis-with-rnn-9e100627c02e"
   ]
  },
  {
   "cell_type": "code",
   "execution_count": 11,
   "id": "charitable-configuration",
   "metadata": {
    "pycharm": {
     "name": "#%%\n"
    },
    "scrolled": true
   },
   "outputs": [
    {
     "name": "stdout",
     "output_type": "stream",
     "text": [
      "Model: \"sequential\"\n",
      "_________________________________________________________________\n",
      "Layer (type)                 Output Shape              Param #   \n",
      "=================================================================\n",
      "embedding (Embedding)        (None, 32, 32)            66560     \n",
      "_________________________________________________________________\n",
      "lstm (LSTM)                  (None, 32)                8320      \n",
      "_________________________________________________________________\n",
      "dropout (Dropout)            (None, 32)                0         \n",
      "_________________________________________________________________\n",
      "dense (Dense)                (None, 1)                 33        \n",
      "=================================================================\n",
      "Total params: 74,913\n",
      "Trainable params: 74,913\n",
      "Non-trainable params: 0\n",
      "_________________________________________________________________\n",
      "None\n",
      "11/11 [==============================] - 0s 3ms/step - loss: 0.0361 - accuracy: 0.9879\n",
      "Test accuracy: 0.9878787994384766\n"
     ]
    },
    {
     "data": {
      "image/png": "[encoded data removed]",
      "text/plain": [
       "<Figure size 720x360 with 2 Axes>"
      ]
     },
     "metadata": {
      "needs_background": "light"
     },
     "output_type": "display_data"
    }
   ],
   "source": [
    "vocab_size = max([max(arr) for arr in word_to_vec(posts)])\n",
    "embedding_size = 32\n",
    "num_epochs = 20\n",
    "lstm_model = Sequential()\n",
    "lstm_model.add(Embedding(vocab_size, embedding_size, input_length=longest_post))\n",
    "lstm_model.add(LSTM(embedding_size))\n",
    "lstm_model.add(Dropout(0.5))\n",
    "lstm_model.add(Dense(1, activation='sigmoid'))\n",
    "print(lstm_model.summary())\n",
    "\n",
    "lstm_model.compile(loss='binary_crossentropy',optimizer='adam',metrics=['accuracy'])\n",
    "\n",
    "csv_logger = CSVLogger(\"lstm_model.csv\", append=False)\n",
    "\n",
    "fit_model(lstm_model, num_epochs,0,X_train, y_train,X_test,y_test)\n",
    "\n",
    "print('Test accuracy:', model_acc(lstm_model,X_test, y_test))\n",
    "\n",
    "acc_graphs(lstm_model)\n"
   ]
  },
  {
   "cell_type": "markdown",
   "id": "secret-insured",
   "metadata": {},
   "source": [
    "### Word-wise CNN Model with custom embedding\n",
    "https://machinelearningmastery.com/develop-word-embedding-model-predicting-movie-review-sentiment/"
   ]
  },
  {
   "cell_type": "code",
   "execution_count": 12,
   "id": "freelance-palace",
   "metadata": {
    "pycharm": {
     "name": "#%%\n"
    }
   },
   "outputs": [
    {
     "name": "stdout",
     "output_type": "stream",
     "text": [
      "Model: \"sequential_1\"\n",
      "_________________________________________________________________\n",
      "Layer (type)                 Output Shape              Param #   \n",
      "=================================================================\n",
      "embedding_1 (Embedding)      (None, 32, 50)            104000    \n",
      "_________________________________________________________________\n",
      "conv1d (Conv1D)              (None, 25, 50)            20050     \n",
      "_________________________________________________________________\n",
      "max_pooling1d (MaxPooling1D) (None, 12, 50)            0         \n",
      "_________________________________________________________________\n",
      "flatten (Flatten)            (None, 600)               0         \n",
      "_________________________________________________________________\n",
      "dense_1 (Dense)              (None, 10)                6010      \n",
      "_________________________________________________________________\n",
      "dense_2 (Dense)              (None, 1)                 11        \n",
      "=================================================================\n",
      "Total params: 130,071\n",
      "Trainable params: 130,071\n",
      "Non-trainable params: 0\n",
      "_________________________________________________________________\n",
      "None\n",
      "11/11 [==============================] - 0s 3ms/step - loss: 0.0677 - accuracy: 0.9788\n",
      "Test accuracy: 0.978787899017334\n"
     ]
    },
    {
     "data": {
      "image/png": "[encoded data removed]",
      "text/plain": [
       "<Figure size 720x360 with 2 Axes>"
      ]
     },
     "metadata": {
      "needs_background": "light"
     },
     "output_type": "display_data"
    }
   ],
   "source": [
    "embedding_size = 50\n",
    "cnn_model = Sequential()\n",
    "cnn_model.add(Embedding(vocab_size, embedding_size, input_length=longest_post))\n",
    "cnn_model.add(Conv1D(embedding_size,kernel_size=8, activation='relu'))\n",
    "cnn_model.add(MaxPooling1D(pool_size=2))\n",
    "cnn_model.add(Flatten())\n",
    "cnn_model.add(Dense(10, activation='relu'))\n",
    "cnn_model.add(Dense(1, activation='sigmoid'))\n",
    "cnn_model.compile(loss='binary_crossentropy',optimizer='adam',metrics=['accuracy'])\n",
    "print(cnn_model.summary())\n",
    "\n",
    "fit_model(cnn_model, num_epochs,0,X_train, y_train,X_test,y_test)\n",
    "\n",
    "print('Test accuracy:', model_acc(cnn_model,X_test, y_test))\n",
    "\n",
    "acc_graphs(cnn_model)\n"
   ]
  },
  {
   "cell_type": "markdown",
   "id": "veterinary-efficiency",
   "metadata": {},
   "source": [
    "##### Problems with this approach:\n",
    "- after coding this section, I realized that using the entire set to build the embedding dictionary is \"cheating\": in the real world, we would not have access to the test data\n",
    "- I decided to see how much the results would be affected by separating train and test data before building the dictionary\n",
    "- unfortunately, the results were much worse. This makes sense because missing words would have no assocation to a label\n",
    "- this is why we want to use similarity vectors for words.\n",
    "- as you can see below, the in-sample accuracy converges to nearly 1, while the validation accuracy hovers around 50%\n",
    "- below, you can see how my custom-dictionary model fails when the dictionary is built only with training data"
   ]
  },
  {
   "cell_type": "code",
   "execution_count": 13,
   "id": "cognitive-assembly",
   "metadata": {
    "pycharm": {
     "name": "#%%\n"
    }
   },
   "outputs": [
    {
     "name": "stderr",
     "output_type": "stream",
     "text": [
      "<__array_function__ internals>:5: VisibleDeprecationWarning: Creating an ndarray from ragged nested sequences (which is a list-or-tuple of lists-or-tuples-or ndarrays with different lengths or shapes) is deprecated. If you meant to do this, you must specify 'dtype=object' when creating the ndarray\n",
      "<__array_function__ internals>:5: VisibleDeprecationWarning: Creating an ndarray from ragged nested sequences (which is a list-or-tuple of lists-or-tuples-or ndarrays with different lengths or shapes) is deprecated. If you meant to do this, you must specify 'dtype=object' when creating the ndarray\n"
     ]
    },
    {
     "name": "stdout",
     "output_type": "stream",
     "text": [
      "X_train shape: (800, 149) (800,)\n",
      "X_test shape: (200, 149) (200,)\n",
      "Model: \"sequential_2\"\n",
      "_________________________________________________________________\n",
      "Layer (type)                 Output Shape              Param #   \n",
      "=================================================================\n",
      "embedding_2 (Embedding)      (None, 32, 32)            66560     \n",
      "_________________________________________________________________\n",
      "lstm_1 (LSTM)                (None, 32)                8320      \n",
      "_________________________________________________________________\n",
      "dropout_1 (Dropout)          (None, 32)                0         \n",
      "_________________________________________________________________\n",
      "dense_3 (Dense)              (None, 1)                 33        \n",
      "=================================================================\n",
      "Total params: 74,913\n",
      "Trainable params: 74,913\n",
      "Non-trainable params: 0\n",
      "_________________________________________________________________\n",
      "None\n",
      "WARNING:tensorflow:Model was constructed with shape (None, 32) for input KerasTensor(type_spec=TensorSpec(shape=(None, 32), dtype=tf.float32, name='embedding_2_input'), name='embedding_2_input', description=\"created by layer 'embedding_2_input'\"), but it was called on an input with incompatible shape (32, 149).\n",
      "WARNING:tensorflow:Model was constructed with shape (None, 32) for input KerasTensor(type_spec=TensorSpec(shape=(None, 32), dtype=tf.float32, name='embedding_2_input'), name='embedding_2_input', description=\"created by layer 'embedding_2_input'\"), but it was called on an input with incompatible shape (32, 149).\n",
      "WARNING:tensorflow:Model was constructed with shape (None, 32) for input KerasTensor(type_spec=TensorSpec(shape=(None, 32), dtype=tf.float32, name='embedding_2_input'), name='embedding_2_input', description=\"created by layer 'embedding_2_input'\"), but it was called on an input with incompatible shape (None, 149).\n",
      "7/7 [==============================] - 0s 13ms/step - loss: 1.3844 - accuracy: 0.5600\n",
      "Test accuracy: 0.5600000023841858\n"
     ]
    },
    {
     "data": {
      "image/png": "[encoded data removed]",
      "text/plain": [
       "<Figure size 720x360 with 2 Axes>"
      ]
     },
     "metadata": {
      "needs_background": "light"
     },
     "output_type": "display_data"
    }
   ],
   "source": [
    "def preprocess(df):\n",
    "    # separate into positive and negative posts\n",
    "    positive_posts = pd.Series.to_numpy(df[df.label == 1]['text'])\n",
    "    negative_posts = pd.Series.to_numpy(df[df.label == 0]['text'])\n",
    "\n",
    "    # keep an object with both sets for later use\n",
    "    posts = np.append(negative_posts, positive_posts, axis=0)\n",
    "    \n",
    "    neg_encoded = word_to_vec(negative_posts)\n",
    "    pos_encoded = word_to_vec(positive_posts)\n",
    "    word_vecs = np.concatenate((neg_encoded, pos_encoded))\n",
    "    \n",
    "    # Padding the data samples to a maximum review length in words\n",
    "#     longest_post = max([len(post) for post in word_to_vec(posts)])\n",
    "    padded_word_vecs = sequence.pad_sequences(word_vecs, maxlen=149)\n",
    "    \n",
    "    labels = np.concatenate((np.zeros(len(neg_encoded)), np.ones(len(pos_encoded))))\n",
    "    \n",
    "    return padded_word_vecs,labels\n",
    "\n",
    "X_train, y_train = preprocess(train_df)\n",
    "X_test, y_test = preprocess(test_df)\n",
    "\n",
    "print('X_train shape:', X_train.shape, y_train.shape)\n",
    "print('X_test shape:', X_test.shape, y_test.shape)\n",
    "\n",
    "vocab_size = max([max(arr) for arr in word_to_vec(posts)])\n",
    "embedding_size = 32\n",
    "lstm_model = Sequential()\n",
    "lstm_model.add(Embedding(vocab_size, embedding_size, input_length=longest_post))\n",
    "lstm_model.add(LSTM(embedding_size))\n",
    "lstm_model.add(Dropout(0.5))\n",
    "lstm_model.add(Dense(1, activation='sigmoid'))\n",
    "print(lstm_model.summary())\n",
    "\n",
    "lstm_model.compile(loss='binary_crossentropy',optimizer='adam',metrics=['accuracy'])\n",
    "\n",
    "fit_model(lstm_model, num_epochs,0,X_train, y_train,X_test,y_test)\n",
    "\n",
    "print('Test accuracy:', model_acc(lstm_model,X_test, y_test))\n",
    "\n",
    "acc_graphs(lstm_model)\n"
   ]
  },
  {
   "cell_type": "markdown",
   "id": "provincial-musical",
   "metadata": {},
   "source": [
    "### Create word-wise GloVe pre-trained embeddings\n",
    "Re-doing the character-wise model with GloVe pre-trained embeddings, since the custom dictionary approach fails when applied on training set only."
   ]
  },
  {
   "cell_type": "code",
   "execution_count": 14,
   "id": "spoken-sacramento",
   "metadata": {},
   "outputs": [],
   "source": [
    "\n",
    "class wordVec:\n",
    "    '''\n",
    "    generates a split of training and test data in class format.\n",
    "    useful when dealing with many sets of data in different splits \n",
    "    '''\n",
    "    def __init__(self, data):\n",
    "        self.samples = pd.Series.to_numpy(data.text)\n",
    "        self.labels = pd.Series.to_numpy(data.label)\n",
    "        \n",
    "        self.train_samples = None\n",
    "        self.val_samples = None\n",
    "        \n",
    "        self.train_labels = None\n",
    "        self.val_labels = None\n",
    "\n",
    "    def split(self, n):\n",
    "        rng = np.random.RandomState(seed)\n",
    "        rng.shuffle(self.samples)\n",
    "        rng = np.random.RandomState(seed)\n",
    "        rng.shuffle(self.labels)\n",
    "\n",
    "        # Extract a training & validation split\n",
    "        validation_split = n\n",
    "        num_validation_samples = int(validation_split * len(self.samples))\n",
    "        self.train_samples = self.samples[:-num_validation_samples]\n",
    "        self.val_samples = self.samples[-num_validation_samples:]\n",
    "        self.train_labels = self.labels[:-num_validation_samples]\n",
    "        self.val_labels = self.labels[-num_validation_samples:]"
   ]
  },
  {
   "cell_type": "code",
   "execution_count": 15,
   "id": "architectural-northwest",
   "metadata": {},
   "outputs": [
    {
     "data": {
      "text/plain": [
       "'Overpriced for what you are getting.'"
      ]
     },
     "execution_count": 15,
     "metadata": {},
     "output_type": "execute_result"
    }
   ],
   "source": [
    "# Split to train and test\n",
    "\n",
    "yelp_labelled = pd.read_csv('yelp_labelled.txt', sep='\\t', header=None)\n",
    "yelp_labelled.columns = ['text', 'label']\n",
    "\n",
    "yelpVec = wordVec(yelp_labelled)\n",
    "yelpVec.split(0.2)\n",
    "yelpVec.train_samples[0]\n"
   ]
  },
  {
   "cell_type": "code",
   "execution_count": 16,
   "id": "superb-shopper",
   "metadata": {},
   "outputs": [
    {
     "name": "stdout",
     "output_type": "stream",
     "text": [
      "1816\n"
     ]
    }
   ],
   "source": [
    "#Tokenize the sentences\n",
    "tokenizer = Tokenizer()\n",
    "\n",
    "#preparing vocabulary\n",
    "tokenizer.fit_on_texts(list(yelpVec.train_samples))\n",
    "\n",
    "#converting text into integer sequences\n",
    "x_tr_seq  = tokenizer.texts_to_sequences(yelpVec.train_samples) \n",
    "x_val_seq = tokenizer.texts_to_sequences(yelpVec.val_samples) \n",
    "\n",
    "#padding to prepare sequences of same length\n",
    "x_tr_seq  = pad_sequences(x_tr_seq, maxlen=100)\n",
    "x_val_seq = pad_sequences(x_val_seq, maxlen=100)\n",
    "\n",
    "size_of_vocabulary=len(tokenizer.word_index) + 1 #+1 for padding\n",
    "print(size_of_vocabulary)"
   ]
  },
  {
   "cell_type": "code",
   "execution_count": 17,
   "id": "mature-language",
   "metadata": {},
   "outputs": [],
   "source": [
    "X_train = np.array(x_tr_seq),\n",
    "y_train = np.array(yelpVec.train_labels)\n",
    "\n",
    "X_test = np.array(x_val_seq),\n",
    "y_test = np.array(yelpVec.val_labels)\n"
   ]
  },
  {
   "cell_type": "code",
   "execution_count": 18,
   "id": "ignored-wichita",
   "metadata": {},
   "outputs": [],
   "source": [
    "def load_pretrained():\n",
    "    path_to_glove_file = os.path.join(\n",
    "        os.path.expanduser(\"~\"), \".keras/datasets/glove.6B.300d.txt\")\n",
    "\n",
    "    embeddings_index = {}\n",
    "    with open(path_to_glove_file) as f:\n",
    "        for line in f:\n",
    "            word, coefs = line.split(maxsplit=1)\n",
    "            coefs = np.fromstring(coefs, \"f\", sep=\" \")\n",
    "            embeddings_index[word] = coefs\n",
    "\n",
    "    print(\"Found %s word vectors.\" % len(embeddings_index))\n",
    "    return embeddings_index"
   ]
  },
  {
   "cell_type": "code",
   "execution_count": 19,
   "id": "second-reporter",
   "metadata": {},
   "outputs": [
    {
     "name": "stdout",
     "output_type": "stream",
     "text": [
      "Found 400000 word vectors.\n"
     ]
    }
   ],
   "source": [
    "embed_index = load_pretrained()\n",
    "\n",
    "# create a weight matrix for words in training docs\n",
    "embedding_matrix = np.zeros((size_of_vocabulary, 300))\n",
    "\n",
    "for word, i in tokenizer.word_index.items():\n",
    "    embedding_vector = embed_index.get(word)\n",
    "    if embedding_vector is not None:\n",
    "        embedding_matrix[i] = embedding_vector\n"
   ]
  },
  {
   "cell_type": "markdown",
   "id": "surprised-missile",
   "metadata": {},
   "source": [
    "### Word-Wise LSTM model using GloVe embeddings"
   ]
  },
  {
   "cell_type": "code",
   "execution_count": 20,
   "id": "standing-clock",
   "metadata": {},
   "outputs": [
    {
     "name": "stdout",
     "output_type": "stream",
     "text": [
      "Model: \"sequential_3\"\n",
      "_________________________________________________________________\n",
      "Layer (type)                 Output Shape              Param #   \n",
      "=================================================================\n",
      "embedding_3 (Embedding)      (None, 100, 300)          544800    \n",
      "_________________________________________________________________\n",
      "lstm_2 (LSTM)                (None, 100, 128)          219648    \n",
      "_________________________________________________________________\n",
      "global_max_pooling1d (Global (None, 128)               0         \n",
      "_________________________________________________________________\n",
      "dense_4 (Dense)              (None, 64)                8256      \n",
      "_________________________________________________________________\n",
      "dense_5 (Dense)              (None, 1)                 65        \n",
      "_________________________________________________________________\n",
      "flatten_1 (Flatten)          (None, 1)                 0         \n",
      "=================================================================\n",
      "Total params: 772,769\n",
      "Trainable params: 227,969\n",
      "Non-trainable params: 544,800\n",
      "_________________________________________________________________\n",
      "None\n",
      "7/7 [==============================] - 0s 36ms/step - loss: 0.5272 - accuracy: 0.8450\n",
      "Test accuracy: 0.8450000286102295\n"
     ]
    },
    {
     "data": {
      "image/png": "[encoded data removed]",
      "text/plain": [
       "<Figure size 720x360 with 2 Axes>"
      ]
     },
     "metadata": {
      "needs_background": "light"
     },
     "output_type": "display_data"
    }
   ],
   "source": [
    "embedding_size = 50\n",
    "lstm_glove_model = Sequential()\n",
    "lstm_glove_model.add(Embedding(size_of_vocabulary,300,weights=[embedding_matrix],input_length=100,trainable=False))\n",
    "lstm_glove_model.add(LSTM(128,return_sequences=True,dropout=0.2))\n",
    "lstm_glove_model.add(GlobalMaxPooling1D())\n",
    "lstm_glove_model.add(Dense(64,activation='relu')) \n",
    "lstm_glove_model.add(Dense(1,activation='sigmoid')) \n",
    "lstm_glove_model.add(Flatten())\n",
    "lstm_glove_model.compile(loss='binary_crossentropy',optimizer='adam',metrics=['accuracy'])\n",
    "print(lstm_glove_model.summary())\n",
    "\n",
    "num_epochs = 20\n",
    "fit_model(lstm_glove_model, num_epochs,0,X_train, y_train,X_test,y_test)\n",
    "\n",
    "print('Test accuracy:', model_acc(lstm_glove_model,X_test, y_test))\n",
    "\n",
    "acc_graphs(lstm_glove_model)\n"
   ]
  },
  {
   "cell_type": "markdown",
   "id": "accessible-immunology",
   "metadata": {},
   "source": [
    "### Word-wise CNN using GloVe embeddings"
   ]
  },
  {
   "cell_type": "code",
   "execution_count": 21,
   "id": "defined-classroom",
   "metadata": {},
   "outputs": [
    {
     "name": "stdout",
     "output_type": "stream",
     "text": [
      "Model: \"sequential_4\"\n",
      "_________________________________________________________________\n",
      "Layer (type)                 Output Shape              Param #   \n",
      "=================================================================\n",
      "embedding_4 (Embedding)      (None, 100, 300)          544800    \n",
      "_________________________________________________________________\n",
      "conv1d_1 (Conv1D)            (None, 93, 50)            120050    \n",
      "_________________________________________________________________\n",
      "max_pooling1d_1 (MaxPooling1 (None, 46, 50)            0         \n",
      "_________________________________________________________________\n",
      "flatten_2 (Flatten)          (None, 2300)              0         \n",
      "_________________________________________________________________\n",
      "dense_6 (Dense)              (None, 50)                115050    \n",
      "_________________________________________________________________\n",
      "dense_7 (Dense)              (None, 10)                510       \n",
      "_________________________________________________________________\n",
      "dense_8 (Dense)              (None, 5)                 55        \n",
      "_________________________________________________________________\n",
      "dense_9 (Dense)              (None, 1)                 6         \n",
      "=================================================================\n",
      "Total params: 780,471\n",
      "Trainable params: 235,671\n",
      "Non-trainable params: 544,800\n",
      "_________________________________________________________________\n",
      "None\n",
      "7/7 [==============================] - 0s 10ms/step - loss: 0.5801 - accuracy: 0.7600\n",
      "Test accuracy: 0.7599999904632568\n"
     ]
    },
    {
     "data": {
      "image/png": "[encoded data removed]",
      "text/plain": [
       "<Figure size 720x360 with 2 Axes>"
      ]
     },
     "metadata": {
      "needs_background": "light"
     },
     "output_type": "display_data"
    }
   ],
   "source": [
    "embedding_size = 50\n",
    "cnn_glove_model = Sequential()\n",
    "cnn_glove_model.add(Embedding(size_of_vocabulary,300,weights=[embedding_matrix],input_length=100,trainable=False))\n",
    "cnn_glove_model.add(Conv1D(embedding_size,kernel_size=8, activation='relu'))\n",
    "cnn_glove_model.add(MaxPooling1D(pool_size=2))\n",
    "cnn_glove_model.add(Flatten())\n",
    "cnn_glove_model.add(Dense(50, activation='sigmoid'))\n",
    "cnn_glove_model.add(Dense(10, activation='relu'))\n",
    "cnn_glove_model.add(Dense(5, activation='sigmoid'))\n",
    "cnn_glove_model.add(Dense(1, activation='sigmoid'))\n",
    "cnn_glove_model.compile(loss='binary_crossentropy',optimizer='adam',metrics=['accuracy'])\n",
    "print(cnn_glove_model.summary())\n",
    "\n",
    "fit_model(cnn_glove_model, num_epochs,0,X_train, y_train,X_test,y_test)\n",
    "\n",
    "print('Test accuracy:', model_acc(cnn_glove_model,X_test, y_test))\n",
    "\n",
    "acc_graphs(cnn_glove_model)\n"
   ]
  },
  {
   "cell_type": "markdown",
   "id": "fluid-vulnerability",
   "metadata": {},
   "source": [
    "### Prepare and vectorize the character-wise data"
   ]
  },
  {
   "cell_type": "code",
   "execution_count": 22,
   "id": "virtual-civilization",
   "metadata": {
    "pycharm": {
     "name": "#%%\n"
    }
   },
   "outputs": [],
   "source": [
    "def char_tokenizer(lines):\n",
    "    tk = Tokenizer(num_words=None, char_level=True, oov_token='UNK')\n",
    "    lines_low = [[l.lower() for l in lines]]\n",
    "    tk.fit_on_texts(lines_low)\n",
    "\n",
    "    alphabet = \"abcdefghijklmnopqrstuvwxyz0123456789,;.!?:'\\\"/\\\\|_@#$%^&*~`+-=<>()[]{}\"\n",
    "    char_dict = {}\n",
    "    for i, char in enumerate(alphabet):\n",
    "        char_dict[char] = i + 1\n",
    "\n",
    "    # Use char_dict to replace the tk.word_index\n",
    "    tk.word_index = char_dict.copy()\n",
    "    # Add 'UNK' to the vocabulary\n",
    "    tk.word_index[tk.oov_token] = max(char_dict.values()) + 1\n",
    "    return tk"
   ]
  },
  {
   "cell_type": "code",
   "execution_count": 23,
   "id": "dense-youth",
   "metadata": {
    "pycharm": {
     "name": "#%%\n"
    }
   },
   "outputs": [],
   "source": [
    "def embed_weights(tk):\n",
    "    vocab_size = len(tk.word_index)\n",
    "    embedding_weights = []\n",
    "    embedding_weights.append(np.zeros(vocab_size))\n",
    "\n",
    "    for char,i in tk.word_index.items():\n",
    "        onehot = np.zeros(vocab_size)\n",
    "        onehot[i-1] = 1\n",
    "        embedding_weights.append(onehot)\n",
    "\n",
    "    return np.array(embedding_weights)"
   ]
  },
  {
   "cell_type": "code",
   "execution_count": 24,
   "id": "acute-scale",
   "metadata": {
    "pycharm": {
     "name": "#%%\n"
    }
   },
   "outputs": [
    {
     "name": "stdout",
     "output_type": "stream",
     "text": [
      "Wow... Loved this place. becomes [23, 15, 23, 39, 39, 39, 69, 12, 15, 22, 5, 4, 69, 20, 8, 9, 19, 69, 16, 12, 1, 3, 5, 39]\n"
     ]
    }
   ],
   "source": [
    "# transform reviews into character encodings:\n",
    "\n",
    "posts = positive_posts + negative_posts\n",
    "tk = char_tokenizer(posts)\n",
    "vocab_size = len(tk.word_index)\n",
    "pos_seqs = tk.texts_to_sequences(positive_posts)\n",
    "neg_seqs = tk.texts_to_sequences(negative_posts)\n",
    "print(f'{positive_posts[0]} becomes {pos_seqs[0]}')"
   ]
  },
  {
   "cell_type": "code",
   "execution_count": 25,
   "id": "preceding-optimum",
   "metadata": {
    "pycharm": {
     "name": "#%%\n"
    }
   },
   "outputs": [
    {
     "name": "stdout",
     "output_type": "stream",
     "text": [
      "longest post is 149 characters long\n"
     ]
    },
    {
     "name": "stderr",
     "output_type": "stream",
     "text": [
      "/Users/polinab/.virtualenvs/deep/lib/python3.8/site-packages/numpy/core/_asarray.py:136: VisibleDeprecationWarning: Creating an ndarray from ragged nested sequences (which is a list-or-tuple of lists-or-tuples-or ndarrays with different lengths or shapes) is deprecated. If you meant to do this, you must specify 'dtype=object' when creating the ndarray\n",
      "  return array(a, dtype, copy=False, order=order, subok=True)\n",
      "<__array_function__ internals>:5: VisibleDeprecationWarning: Creating an ndarray from ragged nested sequences (which is a list-or-tuple of lists-or-tuples-or ndarrays with different lengths or shapes) is deprecated. If you meant to do this, you must specify 'dtype=object' when creating the ndarray\n"
     ]
    }
   ],
   "source": [
    "longest_post = max([len(x) for x in np.append(neg_seqs, pos_seqs, axis=0)])\n",
    "print(f'longest post is {longest_post} characters long')"
   ]
  },
  {
   "cell_type": "code",
   "execution_count": 26,
   "id": "prescription-wrapping",
   "metadata": {
    "pycharm": {
     "name": "#%%\n"
    }
   },
   "outputs": [
    {
     "data": {
      "text/plain": [
       "array([23., 15., 23., 39., 39., 39., 69., 12., 15., 22.,  5.,  4., 69.,\n",
       "       20.,  8.,  9., 19., 69., 16., 12.,  1.,  3.,  5., 39.,  0.,  0.,\n",
       "        0.,  0.,  0.,  0.,  0.,  0.,  0.,  0.,  0.,  0.,  0.,  0.,  0.,\n",
       "        0.,  0.,  0.,  0.,  0.,  0.,  0.,  0.,  0.,  0.,  0.,  0.,  0.,\n",
       "        0.,  0.,  0.,  0.,  0.,  0.,  0.,  0.,  0.,  0.,  0.,  0.,  0.,\n",
       "        0.,  0.,  0.,  0.,  0.,  0.,  0.,  0.,  0.,  0.,  0.,  0.,  0.,\n",
       "        0.,  0.,  0.,  0.,  0.,  0.,  0.,  0.,  0.,  0.,  0.,  0.,  0.,\n",
       "        0.,  0.,  0.,  0.,  0.,  0.,  0.,  0.,  0.,  0.,  0.,  0.,  0.,\n",
       "        0.,  0.,  0.,  0.,  0.,  0.,  0.,  0.,  0.,  0.,  0.,  0.,  0.,\n",
       "        0.,  0.,  0.,  0.,  0.,  0.,  0.,  0.,  0.,  0.,  0.,  0.,  0.,\n",
       "        0.,  0.,  0.,  0.,  0.,  0.,  0.,  0.,  0.,  0.,  0.,  0.,  0.,\n",
       "        0.,  0.,  0.,  0.,  0.,  0.], dtype=float32)"
      ]
     },
     "execution_count": 26,
     "metadata": {},
     "output_type": "execute_result"
    }
   ],
   "source": [
    "# pad data:\n",
    "\n",
    "pos_seq_padded = pad_sequences(pos_seqs, maxlen=longest_post, padding='post')\n",
    "neg_seq_padded = pad_sequences(neg_seqs, maxlen=longest_post, padding='post')\n",
    "\n",
    "pos_data = np.array(pos_seq_padded, dtype='float32')\n",
    "neg_data = np.array(neg_seq_padded, dtype='float32')\n",
    "pos_data[0]"
   ]
  },
  {
   "cell_type": "code",
   "execution_count": 27,
   "id": "eleven-shower",
   "metadata": {},
   "outputs": [
    {
     "name": "stdout",
     "output_type": "stream",
     "text": [
      "X_train_char shape: (670, 149) (670,)\n",
      "X_test_char shape: (330, 149) (330,)\n"
     ]
    }
   ],
   "source": [
    "padded_char_vecs = np.append(neg_data, pos_data, axis = 0)\n",
    "\n",
    "labels = np.concatenate((np.zeros(len(neg_data)), np.ones(len(pos_data))))\n",
    "X_train_char, X_test_char, y_train_char, y_test_char = train_test_split(padded_char_vecs, labels, test_size=0.33)\n",
    "\n",
    "print('X_train_char shape:', X_train_char.shape, y_train_char.shape)\n",
    "print('X_test_char shape:', X_test_char.shape, y_test_char.shape)"
   ]
  },
  {
   "cell_type": "code",
   "execution_count": 28,
   "id": "indie-pride",
   "metadata": {
    "pycharm": {
     "name": "#%%\n"
    }
   },
   "outputs": [],
   "source": [
    "# define embedding layer \n",
    "def embed_weights(tk):\n",
    "    vocab_size = len(tk.word_index)\n",
    "    embedding_weights = []\n",
    "    embedding_weights.append(np.zeros(vocab_size))\n",
    "\n",
    "    for char,i in tk.word_index.items():\n",
    "        onehot = np.zeros(vocab_size)\n",
    "        onehot[i-1] = 1\n",
    "        embedding_weights.append(onehot)\n",
    "\n",
    "    return np.array(embedding_weights)"
   ]
  },
  {
   "cell_type": "code",
   "execution_count": 29,
   "id": "formal-serbia",
   "metadata": {
    "pycharm": {
     "name": "#%%\n"
    }
   },
   "outputs": [],
   "source": [
    "embedding_size = 69 #TODO: find where this number comes from\n",
    "input_size = longest_post\n",
    "em_weights = embed_weights(tk)\n",
    "embedding_layer = Embedding(vocab_size+1,embedding_size,input_length=input_size,weights=[em_weights])\n"
   ]
  },
  {
   "cell_type": "markdown",
   "id": "separated-release",
   "metadata": {},
   "source": [
    "###  Character-wise CNN model\n",
    "https://realpython.com/python-keras-text-classification/"
   ]
  },
  {
   "cell_type": "code",
   "execution_count": 30,
   "id": "proved-cassette",
   "metadata": {
    "pycharm": {
     "name": "#%%\n"
    }
   },
   "outputs": [
    {
     "name": "stdout",
     "output_type": "stream",
     "text": [
      "Model: \"sequential_5\"\n",
      "_________________________________________________________________\n",
      "Layer (type)                 Output Shape              Param #   \n",
      "=================================================================\n",
      "embedding_5 (Embedding)      (None, 149, 69)           4830      \n",
      "_________________________________________________________________\n",
      "conv1d_2 (Conv1D)            (None, 142, 69)           38157     \n",
      "_________________________________________________________________\n",
      "global_max_pooling1d_1 (Glob (None, 69)                0         \n",
      "_________________________________________________________________\n",
      "flatten_3 (Flatten)          (None, 69)                0         \n",
      "_________________________________________________________________\n",
      "dense_10 (Dense)             (None, 10)                700       \n",
      "_________________________________________________________________\n",
      "dense_11 (Dense)             (None, 1)                 11        \n",
      "=================================================================\n",
      "Total params: 43,698\n",
      "Trainable params: 43,698\n",
      "Non-trainable params: 0\n",
      "_________________________________________________________________\n",
      "None\n",
      "11/11 [==============================] - 0s 5ms/step - loss: 0.6009 - accuracy: 0.7515\n",
      "Test accuracy: 0.7515151500701904\n"
     ]
    },
    {
     "data": {
      "image/png": "[encoded data removed]",
      "text/plain": [
       "<Figure size 720x360 with 2 Axes>"
      ]
     },
     "metadata": {
      "needs_background": "light"
     },
     "output_type": "display_data"
    }
   ],
   "source": [
    "cnn_char_model = Sequential()\n",
    "cnn_char_model.add(embedding_layer)\n",
    "cnn_char_model.add(Conv1D(embedding_size, kernel_size=8, activation='relu'))\n",
    "cnn_char_model.add(GlobalMaxPooling1D())\n",
    "\n",
    "cnn_char_model.add(Flatten())\n",
    "cnn_char_model.add(Dense(10, activation='relu'))\n",
    "cnn_char_model.add(Dense(1, activation='sigmoid'))\n",
    "cnn_char_model.compile(loss='binary_crossentropy', optimizer='adam', metrics=['accuracy'])\n",
    "print(cnn_char_model.summary())\n",
    "\n",
    "fit_model(cnn_char_model, num_epochs,0,\n",
    "          X_train_char, y_train_char,\n",
    "          X_test_char,y_test_char)\n",
    "\n",
    "print('Test accuracy:', model_acc(cnn_char_model,X_test_char, y_test_char))\n",
    "\n",
    "acc_graphs(cnn_char_model)\n"
   ]
  },
  {
   "cell_type": "markdown",
   "id": "absent-kitchen",
   "metadata": {},
   "source": [
    "### Conclusions\n",
    "\n",
    "#### Embeddings\n",
    "Out of the four models I tried, LSTM using GloVe embeddings led to the best results. I did have even better results with LSTM using a custom word dictionary, but I had to discard those results after I realized that training the dictionary on the full set was not appropriate to a real-life use case. In a real machine learning scenario, I would not have access to the test data and I would not be able to construct a dictionary using information from the test set. Since this data set was small, and ever review contained different vocabulary, not including the test set in the training dictionary led to a lot of unmatched words. If the set of data contained less variability among words between train and test sets, the results of the custom dictionary could have been improved. <br>\n",
    "I found very good results using the GloVe pre-trained word embeddings. I used the 300-dimensional ones, which I believe allowed for more information to be used by the model that a lower dimension. I also tried word2vec embeddings chose to go with GloVe in the end due to ease of use. Since GloVe uses a pre-existing large body of words, it does not depend as much on the information in the input data.\n",
    "\n",
    "#### Choice of model\n",
    "When comparing the word vector approach, LSTMs performed better than CNNs. Furthermore, I found that an LSTM model performed better than a regular RNN, but the regular RNN also performed about as well as a CNN. LSTMs retain more imformation over time than RNNs through the use of additional \"memory cell\" units (Chung et al 2014), which allow better improvements over multiple epochs. <br>RNNs perform better than CNNs when the input data contains longer, semantically complicated sentences (Yin et al 2017). This makes sense because RNNs are usually used for predicting sequences, while CNNs were originally used on images and explore spatial correlation of data points. When a sentence needs to be parsed semantically, I would expect an RNN to perform better. However, if detection of specific features is more important, then I would choose a CNN. \n",
    "\n",
    "\n",
    "#### Hyperparameters and layers\n",
    "While I did not do a full hyperparameter grid search integration, I did explore a few combinations of layers and hyperparameters when building my models. Out of what I explored, here is what I found the biggest improvements with:\n",
    "- max pooling layer : dimensionality reduction. This had the greatest effect on increasing accuracy.\n",
    "- adding more dense layers with numbers of neurons between 5 and 50 : models with 2-3 layers performed slightly better than single-layer\n",
    "- combining a relu with a sigmoid layer in the stack, instead of only using one kind or the other. I also tried softmax and tanh activation functions, but they did not yield better results.\n",
    "- hidden size and batch size adjustments, but no clear trend on which works better.\n"
   ]
  },
  {
   "cell_type": "markdown",
   "id": "social-chamber",
   "metadata": {},
   "source": [
    "#### Future improvements\n",
    "\n",
    "If I had more time, I would focus on looking into the input layer of the model and the dimensions of the data I am passing it. <br>\n",
    "If I were to continue this project, I would also build a hyperparameter grid search for my successful models. This way, I would be able to automate the process of tuning hyperparameters instead of trying different numbers manually. Ideally, I would find a way to explore different numbers of layers as well. <br>\n",
    "Finally, I would explore stacking a convolutional layer with an LSTM layer. When I was exploring different architectures I found many references to combined models with CNN and LSTM (Friedrich et al 2020), and I would expect good results in this use case."
   ]
  },
  {
   "cell_type": "markdown",
   "id": "wanted-mechanism",
   "metadata": {},
   "source": [
    "#### Reference Papers\n",
    "- http://www.shl-dataset.org/wp-content/uploads/SHLChallenge2020/short_videos_presentations/01_ubicomp20q-sub1022-cam-i7.pdf\n",
    "- https://arxiv.org/pdf/1702.01923.pdf\n",
    "- https://arxiv.org/abs/1412.3555"
   ]
  }
 ],
 "metadata": {
  "kernelspec": {
   "display_name": "Python 3",
   "language": "python",
   "name": "python3"
  },
  "language_info": {
   "codemirror_mode": {
    "name": "ipython",
    "version": 3
   },
   "file_extension": ".py",
   "mimetype": "text/x-python",
   "name": "python",
   "nbconvert_exporter": "python",
   "pygments_lexer": "ipython3",
   "version": "3.8.5"
  }
 },
 "nbformat": 4,
 "nbformat_minor": 5
}
